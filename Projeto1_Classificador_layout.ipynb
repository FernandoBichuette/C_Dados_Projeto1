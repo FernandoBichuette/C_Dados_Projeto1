{
 "cells": [
  {
   "cell_type": "markdown",
   "metadata": {},
   "source": [
    "# Projeto 1 - Ciência dos Dados"
   ]
  },
  {
   "cell_type": "markdown",
   "metadata": {},
   "source": [
    "Nome: Fernando Bichuette Assumpção\n",
    "\n",
    "Nome: Felipe Lacombe "
   ]
  },
  {
   "cell_type": "markdown",
   "metadata": {},
   "source": [
    "Atenção: Serão permitidos grupos de três pessoas, mas com uma rubrica mais exigente. Grupos deste tamanho precisarão fazer um questionário de avaliação de trabalho em equipe"
   ]
  },
  {
   "cell_type": "markdown",
   "metadata": {},
   "source": [
    "___\n",
    "Carregando algumas bibliotecas:"
   ]
  },
  {
   "cell_type": "code",
   "execution_count": 62,
   "metadata": {},
   "outputs": [],
   "source": [
    "%matplotlib inline\n",
    "import matplotlib.pyplot as plt\n",
    "import tweepy\n",
    "import math\n",
    "import os.path\n",
    "import pandas as pd\n",
    "import json\n",
    "import re\n",
    "import string\n",
    "import emoji\n",
    "import functools\n",
    "import operator\n",
    "from time import sleep\n",
    "from random import shuffle"
   ]
  },
  {
   "cell_type": "code",
   "execution_count": 63,
   "metadata": {
    "scrolled": false
   },
   "outputs": [
    {
     "name": "stdout",
     "output_type": "stream",
     "text": [
      "Esperamos trabalhar no diretório\n",
      "C:\\Users\\Fernando\\Documents\\Insper\\3° Semestre\\Ciencia dos Dados\\C_Dados_Projeto1\n"
     ]
    }
   ],
   "source": [
    "print('Esperamos trabalhar no diretório')\n",
    "print(os.getcwd())"
   ]
  },
  {
   "cell_type": "markdown",
   "metadata": {},
   "source": [
    "Carregando a base de dados com os tweets classificados como relevantes e não relevantes:"
   ]
  },
  {
   "cell_type": "code",
   "execution_count": 64,
   "metadata": {},
   "outputs": [],
   "source": [
    "#importando database\n",
    "dados=pd.read_excel(\"bolsa.xlsx\",'Teste')"
   ]
  },
  {
   "cell_type": "markdown",
   "metadata": {},
   "source": [
    "___\n",
    "## Classificador automático de sentimento\n"
   ]
  },
  {
   "cell_type": "markdown",
   "metadata": {},
   "source": [
    "Faça aqui uma descrição do seu produto e o que considerou como relevante ou não relevante na classificação dos tweets.\n",
    "\n",
    "No projeto 1 de Ciência de dados será feito um clasificador que vai analizar a palavra bolsa em todos os tweets e classificar se é relevante quando está relacionada a **bolsa de valores** e irrelevante quando é empregada em outro em outro sentido ex: bolsa familia, bolsa utilitaria e etc.\n"
   ]
  },
  {
   "cell_type": "markdown",
   "metadata": {},
   "source": [
    "## Limpando database"
   ]
  },
  {
   "cell_type": "code",
   "execution_count": 65,
   "metadata": {},
   "outputs": [
    {
     "data": {
      "text/plain": [
       "0    113\n",
       "1     87\n",
       "Name: B1, dtype: int64"
      ]
     },
     "execution_count": 65,
     "metadata": {},
     "output_type": "execute_result"
    }
   ],
   "source": [
    "dados.B1.value_counts()"
   ]
  },
  {
   "cell_type": "code",
   "execution_count": 66,
   "metadata": {},
   "outputs": [],
   "source": [
    "#fazendo a limpeza do arquivo\n",
    "def cleanup(tabela):\n",
    "    tabela= tabela.replace(\"ç\",\"c\").replace(\"â\",\"a\").replace(\"ã\",\"a\").replace(\"à\",\"a\")\\\n",
    "    .replace(\"ê\",\"e\").replace(\"é\",\"e\").replace(\"ô\",\"o\").replace(\"õ\",\"o\").replace(\"/\",\" \")\\\n",
    "    .replace(\"?\",\" \").replace(\"!\",\" \").replace(\"@\",\" \").replace(\"\\n\",\" \").replace(\";\",\" \")\\\n",
    "    .replace(\",\",\"\").replace(\":\",\" \").replace(\"[\",\" \").replace(\"]\",\" \").replace(\"}\",\" \")\\\n",
    "    .replace(\"{\",\" \").replace(\"\\\\\",\" \").replace(' \" ',\" \").replace(\" ' \",\"\").replace(\" * \",\" \")\\\n",
    "    .replace(\" _ \",\" \").replace(\" - \",\" \").replace(\" . \",\" \").replace(\" rt \",\" \").replace(\"…\",\"\")\\\n",
    "    .replace(\"“\",\"\").replace(\"             \",\" \").replace(\"   \",\"\").replace(\"..\",\" \")\\\n",
    "    .replace(\"...\",\" \").replace(\"....\",\" \").replace(\".....\",\" \").replace(\"     \",\" \")\\\n",
    "    .replace(\"\\ \",\"\").replace(\"*\",\"\").replace(\")\",\"\").replace(' \" ',\" \").replace(\" ' \",\" \")\\\n",
    "    .replace(' \"',\" \").replace('\" ',\" \")\\\n",
    "    .replace('\"',\" \")\n",
    "    \n",
    "    \n",
    "    return tabela \n",
    "titulo='Teste'\n",
    "dados_palavras=dados['Teste'].apply(cleanup)\n",
    "\n",
    "def separador(tabela,titulo):\n",
    "    i = tabela[titulo].str.split(' ')\n",
    "\n",
    "    nova = pd.DataFrame()\n",
    "    nova['Tabela splitted'] = []\n",
    "\n",
    "    for lista in i:\n",
    "        for e in ['#','' , ' ', 'rt','@',]:\n",
    "            while lista.count(e) != 0:\n",
    "                lista.remove(e)\n",
    "\n",
    "        for palavra in lista:\n",
    "            if palavra[:1] == \"@\":\n",
    "                lista.remove(palavra)\n",
    "            if palavra[:4] == 'http':\n",
    "                lista.remove(palavra)\n",
    "        nova = nova.append({'Tabela splitted': lista}, ignore_index=True)\n",
    "    return nova\n",
    "\n",
    "\n",
    "def tabela_palavras(tabela):\n",
    "    a = tabela['Tabela splitted']\n",
    "    prob = pd.DataFrame()\n",
    "    prob['Tabela splitted'] = []\n",
    "    for lista in a:\n",
    "        for e in lista:\n",
    "            prob = prob.append({'Tabela splitted': e}, ignore_index=True)\n",
    "    \n",
    "    return prob['Tabela splitted']\n",
    "dados_palavras=dados['Teste'].apply(cleanup)"
   ]
  },
  {
   "cell_type": "markdown",
   "metadata": {},
   "source": [
    "___\n",
    "### Montando um Classificador Naive-Bayes\n",
    "\n",
    "Considerando apenas as mensagens da planilha Treinamento, ensine  seu classificador."
   ]
  },
  {
   "cell_type": "code",
   "execution_count": 67,
   "metadata": {},
   "outputs": [
    {
     "data": {
      "text/html": [
       "<div>\n",
       "<style scoped>\n",
       "    .dataframe tbody tr th:only-of-type {\n",
       "        vertical-align: middle;\n",
       "    }\n",
       "\n",
       "    .dataframe tbody tr th {\n",
       "        vertical-align: top;\n",
       "    }\n",
       "\n",
       "    .dataframe thead th {\n",
       "        text-align: right;\n",
       "    }\n",
       "</style>\n",
       "<table border=\"1\" class=\"dataframe\">\n",
       "  <thead>\n",
       "    <tr style=\"text-align: right;\">\n",
       "      <th></th>\n",
       "      <th>Teste</th>\n",
       "    </tr>\n",
       "    <tr>\n",
       "      <th>B1</th>\n",
       "      <th></th>\n",
       "    </tr>\n",
       "  </thead>\n",
       "  <tbody>\n",
       "    <tr>\n",
       "      <th>1</th>\n",
       "      <td>nos últimos 12 meses: \\nibov vs cdi: cdi\\nibov...</td>\n",
       "    </tr>\n",
       "    <tr>\n",
       "      <th>1</th>\n",
       "      <td>após tombo de segunda, bolsa tem recuperação e...</td>\n",
       "    </tr>\n",
       "    <tr>\n",
       "      <th>1</th>\n",
       "      <td>entenda por que a bolsa de valores cai e o dól...</td>\n",
       "    </tr>\n",
       "    <tr>\n",
       "      <th>1</th>\n",
       "      <td>bolsa de sao paulo suspende negocios tras desp...</td>\n",
       "    </tr>\n",
       "    <tr>\n",
       "      <th>1</th>\n",
       "      <td>tereza parou a aula pra falar do coronga e da ...</td>\n",
       "    </tr>\n",
       "  </tbody>\n",
       "</table>\n",
       "</div>"
      ],
      "text/plain": [
       "                                                Teste\n",
       "B1                                                   \n",
       "1   nos últimos 12 meses: \\nibov vs cdi: cdi\\nibov...\n",
       "1   após tombo de segunda, bolsa tem recuperação e...\n",
       "1   entenda por que a bolsa de valores cai e o dól...\n",
       "1   bolsa de sao paulo suspende negocios tras desp...\n",
       "1   tereza parou a aula pra falar do coronga e da ..."
      ]
     },
     "execution_count": 67,
     "metadata": {},
     "output_type": "execute_result"
    }
   ],
   "source": [
    "#Dataframe relevante \n",
    "relevantes = dados.loc[(dados['B1'])==1]\n",
    "relevantes.set_index('B1',inplace=True)\n",
    "relevantes.head()"
   ]
  },
  {
   "cell_type": "code",
   "execution_count": 68,
   "metadata": {},
   "outputs": [
    {
     "data": {
      "text/html": [
       "<div>\n",
       "<style scoped>\n",
       "    .dataframe tbody tr th:only-of-type {\n",
       "        vertical-align: middle;\n",
       "    }\n",
       "\n",
       "    .dataframe tbody tr th {\n",
       "        vertical-align: top;\n",
       "    }\n",
       "\n",
       "    .dataframe thead th {\n",
       "        text-align: right;\n",
       "    }\n",
       "</style>\n",
       "<table border=\"1\" class=\"dataframe\">\n",
       "  <thead>\n",
       "    <tr style=\"text-align: right;\">\n",
       "      <th></th>\n",
       "      <th>Teste</th>\n",
       "    </tr>\n",
       "    <tr>\n",
       "      <th>B1</th>\n",
       "      <th></th>\n",
       "    </tr>\n",
       "  </thead>\n",
       "  <tbody>\n",
       "    <tr>\n",
       "      <th>0</th>\n",
       "      <td>agora sigo sem bolsa nenhuma pq as duas que eu...</td>\n",
       "    </tr>\n",
       "    <tr>\n",
       "      <th>0</th>\n",
       "      <td>entrei na mr cat hoje pra comprar uma bolsa de...</td>\n",
       "    </tr>\n",
       "    <tr>\n",
       "      <th>0</th>\n",
       "      <td>@zedassilva @zedassilva é um disparate  sem so...</td>\n",
       "    </tr>\n",
       "    <tr>\n",
       "      <th>0</th>\n",
       "      <td>@_luizabatista bolsa de água quente ou banho b...</td>\n",
       "    </tr>\n",
       "    <tr>\n",
       "      <th>0</th>\n",
       "      <td>os crente gritando na minha cara aq na igreja ...</td>\n",
       "    </tr>\n",
       "  </tbody>\n",
       "</table>\n",
       "</div>"
      ],
      "text/plain": [
       "                                                Teste\n",
       "B1                                                   \n",
       "0   agora sigo sem bolsa nenhuma pq as duas que eu...\n",
       "0   entrei na mr cat hoje pra comprar uma bolsa de...\n",
       "0   @zedassilva @zedassilva é um disparate  sem so...\n",
       "0   @_luizabatista bolsa de água quente ou banho b...\n",
       "0   os crente gritando na minha cara aq na igreja ..."
      ]
     },
     "execution_count": 68,
     "metadata": {},
     "output_type": "execute_result"
    }
   ],
   "source": [
    "#Dataframe irrelevante\n",
    "irrelevantes = dados.loc[(dados['B1'])==0]\n",
    "irrelevantes.set_index('B1',inplace=True)\n",
    "irrelevantes.head()"
   ]
  },
  {
   "cell_type": "code",
   "execution_count": 69,
   "metadata": {},
   "outputs": [
    {
     "data": {
      "text/html": [
       "<div>\n",
       "<style scoped>\n",
       "    .dataframe tbody tr th:only-of-type {\n",
       "        vertical-align: middle;\n",
       "    }\n",
       "\n",
       "    .dataframe tbody tr th {\n",
       "        vertical-align: top;\n",
       "    }\n",
       "\n",
       "    .dataframe thead th {\n",
       "        text-align: right;\n",
       "    }\n",
       "</style>\n",
       "<table border=\"1\" class=\"dataframe\">\n",
       "  <thead>\n",
       "    <tr style=\"text-align: right;\">\n",
       "      <th></th>\n",
       "      <th>Tabela splitted</th>\n",
       "    </tr>\n",
       "  </thead>\n",
       "  <tbody>\n",
       "    <tr>\n",
       "      <th>0</th>\n",
       "      <td>[agora, sigo, sem, bolsa, nenhuma, pq, as, dua...</td>\n",
       "    </tr>\n",
       "    <tr>\n",
       "      <th>1</th>\n",
       "      <td>[entrei, na, mr, cat, hoje, pra, comprar, uma,...</td>\n",
       "    </tr>\n",
       "    <tr>\n",
       "      <th>2</th>\n",
       "      <td>[@zedassilva, é, um, disparate, sem, sombra, d...</td>\n",
       "    </tr>\n",
       "    <tr>\n",
       "      <th>3</th>\n",
       "      <td>[bolsa, de, água, quente, ou, banho, bem, quen...</td>\n",
       "    </tr>\n",
       "    <tr>\n",
       "      <th>4</th>\n",
       "      <td>[os, crente, gritando, na, minha, cara, aq, na...</td>\n",
       "    </tr>\n",
       "  </tbody>\n",
       "</table>\n",
       "</div>"
      ],
      "text/plain": [
       "                                     Tabela splitted\n",
       "0  [agora, sigo, sem, bolsa, nenhuma, pq, as, dua...\n",
       "1  [entrei, na, mr, cat, hoje, pra, comprar, uma,...\n",
       "2  [@zedassilva, é, um, disparate, sem, sombra, d...\n",
       "3  [bolsa, de, água, quente, ou, banho, bem, quen...\n",
       "4  [os, crente, gritando, na, minha, cara, aq, na..."
      ]
     },
     "execution_count": 69,
     "metadata": {},
     "output_type": "execute_result"
    }
   ],
   "source": [
    "#Split os tweets dos dataframes criados acima\n",
    "relevante_separado=separador(relevantes,titulo)\n",
    "irrelevante_separado=separador(irrelevantes,titulo)\n",
    "\n",
    "irrelevante_separado.head()"
   ]
  },
  {
   "cell_type": "code",
   "execution_count": 70,
   "metadata": {
    "scrolled": false
   },
   "outputs": [
    {
     "data": {
      "text/plain": [
       "de       81\n",
       "a        77\n",
       "bolsa    74\n",
       "e        57\n",
       "que      43\n",
       "Name: Tabela splitted, dtype: int64"
      ]
     },
     "execution_count": 70,
     "metadata": {},
     "output_type": "execute_result"
    }
   ],
   "source": [
    "#calculando quantas vezes cada palavra aparece nos tweets relevantes\n",
    "splited_relevante=tabela_palavras(relevante_separado)\n",
    "prob_relevante = splited_relevante.value_counts(True) \n",
    "num_palavras_relevante = splited_relevante.value_counts()\n",
    "num_palavras_relevante.head()"
   ]
  },
  {
   "cell_type": "code",
   "execution_count": 71,
   "metadata": {},
   "outputs": [
    {
     "data": {
      "text/plain": [
       "bolsa    102\n",
       "de        82\n",
       "e         77\n",
       "a         56\n",
       "que       51\n",
       "Name: Tabela splitted, dtype: int64"
      ]
     },
     "execution_count": 71,
     "metadata": {},
     "output_type": "execute_result"
    }
   ],
   "source": [
    "#calculando quantas vezes cada palavra aparece nos tweets irrelevantes\n",
    "splited_irrelevante=tabela_palavras(irrelevante_separado)\n",
    "prob_irrelevante = splited_irrelevante.value_counts(True) \n",
    "num_palavras_irrelevante = splited_irrelevante.value_counts()\n",
    "num_palavras_irrelevante.head()"
   ]
  },
  {
   "cell_type": "code",
   "execution_count": 72,
   "metadata": {},
   "outputs": [
    {
     "data": {
      "text/plain": [
       "0.03722334004024145"
      ]
     },
     "execution_count": 72,
     "metadata": {},
     "output_type": "execute_result"
    }
   ],
   "source": [
    "# probabilidade de ocorrencia da palavra bolsa dentro do database relevante\n",
    "prob_relevante['bolsa']"
   ]
  },
  {
   "cell_type": "code",
   "execution_count": 73,
   "metadata": {},
   "outputs": [
    {
     "ename": "NameError",
     "evalue": "name 'nova' is not defined",
     "output_type": "error",
     "traceback": [
      "\u001b[1;31m---------------------------------------------------------------------------\u001b[0m",
      "\u001b[1;31mNameError\u001b[0m                                 Traceback (most recent call last)",
      "\u001b[1;32m<ipython-input-73-ba426651faa8>\u001b[0m in \u001b[0;36m<module>\u001b[1;34m\u001b[0m\n\u001b[0;32m      1\u001b[0m \u001b[1;31m#calculando a quantidade total de palavras temos em nosso database\u001b[0m\u001b[1;33m\u001b[0m\u001b[1;33m\u001b[0m\u001b[1;33m\u001b[0m\u001b[0m\n\u001b[0;32m      2\u001b[0m \u001b[0mtamanho\u001b[0m\u001b[1;33m=\u001b[0m\u001b[1;33m[\u001b[0m\u001b[1;33m]\u001b[0m\u001b[1;33m\u001b[0m\u001b[1;33m\u001b[0m\u001b[0m\n\u001b[1;32m----> 3\u001b[1;33m \u001b[0mnewnova\u001b[0m\u001b[1;33m=\u001b[0m\u001b[0mnova\u001b[0m\u001b[1;33m.\u001b[0m\u001b[0miloc\u001b[0m\u001b[1;33m[\u001b[0m\u001b[1;36m0\u001b[0m\u001b[1;33m:\u001b[0m\u001b[1;33m,\u001b[0m\u001b[1;36m0\u001b[0m\u001b[1;33m]\u001b[0m\u001b[1;33m\u001b[0m\u001b[1;33m\u001b[0m\u001b[0m\n\u001b[0m\u001b[0;32m      4\u001b[0m \u001b[1;32mfor\u001b[0m \u001b[0mt\u001b[0m \u001b[1;32min\u001b[0m \u001b[0mnewnova\u001b[0m\u001b[1;33m:\u001b[0m\u001b[1;33m\u001b[0m\u001b[1;33m\u001b[0m\u001b[0m\n\u001b[0;32m      5\u001b[0m     \u001b[1;32mfor\u001b[0m \u001b[0mb\u001b[0m \u001b[1;32min\u001b[0m \u001b[0mt\u001b[0m\u001b[1;33m:\u001b[0m\u001b[1;33m\u001b[0m\u001b[1;33m\u001b[0m\u001b[0m\n",
      "\u001b[1;31mNameError\u001b[0m: name 'nova' is not defined"
     ]
    }
   ],
   "source": [
    "#calculando a quantidade total de palavras temos em nosso database\n",
    "tamanho=[]\n",
    "newnova=nova.iloc[0:,0]\n",
    "for t in newnova:\n",
    "    for b in t:\n",
    "        tamanho.append(b)"
   ]
  },
  {
   "cell_type": "code",
   "execution_count": null,
   "metadata": {},
   "outputs": [],
   "source": [
    "#criando novas colunas para o database final\n",
    "nova[\"Classificacao Manual\"] = pd.Series(dados[\"B1\"])\n",
    "nova[\"Classificacao_Naive\"] = pd.Series()\n",
    "nova[\"Resposta\"] = pd.Series()"
   ]
  },
  {
   "cell_type": "markdown",
   "metadata": {},
   "source": [
    "### Suavização de Laplace"
   ]
  },
  {
   "cell_type": "code",
   "execution_count": null,
   "metadata": {},
   "outputs": [],
   "source": [
    "#criando um contador para percorrer o database linha por linha\n",
    "a=0\n",
    "#criando as variaveis que serão usadas na suavização de Laplace\n",
    "total=len(tamanho)\n",
    "total_relevantes=len(num_palavras_relevante)\n",
    "total_irrelevantes=len(num_palavras_irrelevante)\n",
    "len_01=len(num_palavras_relevante)\n",
    "len_00=len(num_palavras_irrelevante)\n",
    "\n",
    "#fazendo a suavização de Laplace\n",
    "for valor in nova[\"Tabela splitted\"]:\n",
    "    alpha = 1\n",
    "    prob01 = 1\n",
    "    prob00 = 1\n",
    "    for val in valor:\n",
    "        #caso a palavra não exista no nosso database, terá seu valor alterado, para uma melhor \n",
    "        #classificação do Naive Bayers\n",
    "        if val not in num_palavras_relevante or val not in num_palavras_irrelevante:\n",
    "            sec01 = alpha\n",
    "            sec00 = alpha\n",
    "        \n",
    "        else:\n",
    "            sec00=num_palavras_irrelevante[val] + alpha\n",
    "            sec01=num_palavras_relevante[val] + alpha\n",
    "            \n",
    "            \n",
    "        if val in num_palavras_relevante:\n",
    "            prob01 *= (num_palavras_relevante[val] + alpha) / (total_relevantes + total*alpha)\n",
    "        else: \n",
    "            prob01 *= sec01/(len(num_palavras_relevante)+total*alpha)\n",
    "        \n",
    "        if val in num_palavras_irrelevante:   \n",
    "            prob00 *= (num_palavras_irrelevante[val] + alpha) / (total_irrelevantes + total*alpha)\n",
    "        else:\n",
    "            prob00 *= sec00/(len(num_palavras_irrelevante)+total*alpha)\n",
    "       \n",
    "    if prob01>prob00:\n",
    "        prob_x = 1\n",
    "        nova[\"Classificacao_Naive\"][a] = prob_x\n",
    "        if nova[\"Classificacao Manual\"][a] == prob_x:\n",
    "            nova[\"Resposta\"][a] = \"Positivo = True\"\n",
    "        elif nova[\"Classificacao Manual\"][a] != prob_x:\n",
    "            nova[\"Resposta\"][a] = \"Positivo = False\"\n",
    "            \n",
    "    elif prob01<prob00:\n",
    "        prob_x = 0\n",
    "        nova[\"Classificacao_Naive\"][a] = prob_x\n",
    "        if nova[\"Classificacao Manual\"][a] == prob_x:\n",
    "            nova[\"Resposta\"][a] =\"Negativo = True\"\n",
    "        elif nova[\"Classificacao Manual\"][a] != prob_x:\n",
    "            nova[\"Resposta\"][a] =\"Negativo = False\"\n",
    "    a+=1\n",
    "resultado=nova"
   ]
  },
  {
   "cell_type": "markdown",
   "metadata": {},
   "source": [
    "___\n",
    "### Verificando a performance do Classificador\n",
    "\n",
    "Agora você deve testar o seu classificador com a base de Testes."
   ]
  },
  {
   "cell_type": "code",
   "execution_count": null,
   "metadata": {},
   "outputs": [],
   "source": [
    "resultado.head()"
   ]
  },
  {
   "cell_type": "code",
   "execution_count": null,
   "metadata": {},
   "outputs": [],
   "source": [
    "#checando a diferença entre as classificações feitas à mão e as definidas pelo Naive Byers\n",
    "validador = pd.crosstab(resultado['Classificacao Manual'], resultado['Classificacao_Naive'])\n",
    "validador.head()"
   ]
  },
  {
   "cell_type": "code",
   "execution_count": null,
   "metadata": {},
   "outputs": [],
   "source": [
    "resposta = resultado[\"Resposta\"].value_counts(True)\n",
    "print(resposta*100)"
   ]
  },
  {
   "cell_type": "markdown",
   "metadata": {},
   "source": [
    "___\n",
    "### Concluindo"
   ]
  },
  {
   "cell_type": "code",
   "execution_count": null,
   "metadata": {},
   "outputs": [],
   "source": []
  },
  {
   "cell_type": "code",
   "execution_count": null,
   "metadata": {},
   "outputs": [],
   "source": []
  },
  {
   "cell_type": "markdown",
   "metadata": {},
   "source": [
    "___\n",
    "## Aperfeiçoamento:\n",
    "\n",
    "Os trabalhos vão evoluir em conceito dependendo da quantidade de itens avançados:\n",
    "\n",
    "* Limpar: \\n, :, \", ', (, ), etc SEM remover emojis\n",
    "* Corrigir separação de espaços entre palavras e emojis ou entre emojis e emojis\n",
    "* Propor outras limpezas e transformações que não afetem a qualidade da informação ou classificação\n",
    "* Criar categorias intermediárias de relevância baseadas na probabilidade: ex.: muito relevante, relevante, neutro, irrelevante, muito irrelevante (3 categorias: C, mais categorias conta para B)\n",
    "* Explicar por que não posso usar o próprio classificador para gerar mais amostras de treinamento\n",
    "* Propor diferentes cenários para Naïve Bayes fora do contexto do projeto\n",
    "* Sugerir e explicar melhorias reais com indicações concretas de como implementar (indicar como fazer e indicar material de pesquisa)\n",
    "* Montar um dashboard que periodicamente realiza análise de sentimento e visualiza estes dados"
   ]
  },
  {
   "cell_type": "markdown",
   "metadata": {},
   "source": [
    "___\n",
    "## Referências"
   ]
  },
  {
   "cell_type": "markdown",
   "metadata": {},
   "source": [
    "[Naive Bayes and Text Classification](https://arxiv.org/pdf/1410.5329.pdf)  **Mais completo**\n",
    "\n",
    "[A practical explanation of a Naive Bayes Classifier](https://monkeylearn.com/blog/practical-explanation-naive-bayes-classifier/) **Mais simples**"
   ]
  },
  {
   "cell_type": "code",
   "execution_count": null,
   "metadata": {},
   "outputs": [],
   "source": []
  },
  {
   "cell_type": "code",
   "execution_count": null,
   "metadata": {},
   "outputs": [],
   "source": []
  }
 ],
 "metadata": {
  "kernelspec": {
   "display_name": "Python 3",
   "language": "python",
   "name": "python3"
  },
  "language_info": {
   "codemirror_mode": {
    "name": "ipython",
    "version": 3
   },
   "file_extension": ".py",
   "mimetype": "text/x-python",
   "name": "python",
   "nbconvert_exporter": "python",
   "pygments_lexer": "ipython3",
   "version": "3.7.1"
  }
 },
 "nbformat": 4,
 "nbformat_minor": 4
}
