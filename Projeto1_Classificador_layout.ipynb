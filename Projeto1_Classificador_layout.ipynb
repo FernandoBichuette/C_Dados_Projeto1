{
 "cells": [
  {
   "cell_type": "markdown",
   "metadata": {},
   "source": [
    "# Projeto 1 - Ciência dos Dados"
   ]
  },
  {
   "cell_type": "markdown",
   "metadata": {},
   "source": [
    "Nome: Fernando Bichuette Assumpção\n",
    "\n",
    "Nome: Felipe Lacombe "
   ]
  },
  {
   "cell_type": "markdown",
   "metadata": {},
   "source": [
    "Atenção: Serão permitidos grupos de três pessoas, mas com uma rubrica mais exigente. Grupos deste tamanho precisarão fazer um questionário de avaliação de trabalho em equipe"
   ]
  },
  {
   "cell_type": "markdown",
   "metadata": {},
   "source": [
    "___\n",
    "Carregando algumas bibliotecas:"
   ]
  },
  {
   "cell_type": "code",
   "execution_count": 52,
   "metadata": {},
   "outputs": [],
   "source": [
    "%matplotlib inline\n",
    "import matplotlib.pyplot as plt\n",
    "import tweepy\n",
    "import math\n",
    "import os.path\n",
    "import pandas as pd\n",
    "import json\n",
    "import re\n",
    "import string\n",
    "import emoji\n",
    "import functools\n",
    "import operator\n",
    "from time import sleep\n",
    "from random import shuffle"
   ]
  },
  {
   "cell_type": "code",
   "execution_count": 53,
   "metadata": {
    "scrolled": false
   },
   "outputs": [
    {
     "name": "stdout",
     "output_type": "stream",
     "text": [
      "Esperamos trabalhar no diretório\n",
      "C:\\Users\\Fernando\\Documents\\Insper\\3° Semestre\\Ciencia dos Dados\\C_Dados_Projeto1\n"
     ]
    }
   ],
   "source": [
    "print('Esperamos trabalhar no diretório')\n",
    "print(os.getcwd())"
   ]
  },
  {
   "cell_type": "markdown",
   "metadata": {},
   "source": [
    "Carregando a base de dados com os tweets classificados como relevantes e não relevantes:"
   ]
  },
  {
   "cell_type": "code",
   "execution_count": 54,
   "metadata": {},
   "outputs": [],
   "source": [
    "#importando database\n",
    "dados=pd.read_excel(\"bolsa.xlsx\",'Treinamento')"
   ]
  },
  {
   "cell_type": "markdown",
   "metadata": {},
   "source": [
    "___\n",
    "## Classificador automático de sentimento\n"
   ]
  },
  {
   "cell_type": "markdown",
   "metadata": {},
   "source": [
    "Faça aqui uma descrição do seu produto e o que considerou como relevante ou não relevante na classificação dos tweets.\n",
    "\n",
    "No projeto 1 de Ciência de dados será feito um clasificador que vai analizar a palavra bolsa em todos os tweets e classificar se é relevante quando está relacionada a **bolsa de valores** e irrelevante quando é empregada em outro em outro sentido ex: bolsa familia, bolsa utilitaria e etc.\n"
   ]
  },
  {
   "cell_type": "markdown",
   "metadata": {},
   "source": [
    "## Limpando database"
   ]
  },
  {
   "cell_type": "code",
   "execution_count": 55,
   "metadata": {},
   "outputs": [
    {
     "data": {
      "text/plain": [
       "1    153\n",
       "0    147\n",
       "Name: B1, dtype: int64"
      ]
     },
     "execution_count": 55,
     "metadata": {},
     "output_type": "execute_result"
    }
   ],
   "source": [
    "dados.B1.value_counts()"
   ]
  },
  {
   "cell_type": "code",
   "execution_count": 90,
   "metadata": {},
   "outputs": [
    {
     "data": {
      "text/html": [
       "<div>\n",
       "<style scoped>\n",
       "    .dataframe tbody tr th:only-of-type {\n",
       "        vertical-align: middle;\n",
       "    }\n",
       "\n",
       "    .dataframe tbody tr th {\n",
       "        vertical-align: top;\n",
       "    }\n",
       "\n",
       "    .dataframe thead th {\n",
       "        text-align: right;\n",
       "    }\n",
       "</style>\n",
       "<table border=\"1\" class=\"dataframe\">\n",
       "  <thead>\n",
       "    <tr style=\"text-align: right;\">\n",
       "      <th></th>\n",
       "      <th>Tabela splitted</th>\n",
       "    </tr>\n",
       "  </thead>\n",
       "  <tbody>\n",
       "    <tr>\n",
       "      <th>0</th>\n",
       "      <td>[dólar, cai, a, r$, 4,64,, e, bolsa, avança, m...</td>\n",
       "    </tr>\n",
       "    <tr>\n",
       "      <th>1</th>\n",
       "      <td>[@albuquerque_af, @tradersclubbr, entrei, no, ...</td>\n",
       "    </tr>\n",
       "    <tr>\n",
       "      <th>2</th>\n",
       "      <td>[gente, eu, amo, esses, perfuminhos, da, jequi...</td>\n",
       "    </tr>\n",
       "    <tr>\n",
       "      <th>3</th>\n",
       "      <td>[minha, colega, pediu, um, chiclete,, fui, pro...</td>\n",
       "    </tr>\n",
       "    <tr>\n",
       "      <th>4</th>\n",
       "      <td>[bolsa, cai,, dólar, sobe,, o, país, se, desma...</td>\n",
       "    </tr>\n",
       "  </tbody>\n",
       "</table>\n",
       "</div>"
      ],
      "text/plain": [
       "                                     Tabela splitted\n",
       "0  [dólar, cai, a, r$, 4,64,, e, bolsa, avança, m...\n",
       "1  [@albuquerque_af, @tradersclubbr, entrei, no, ...\n",
       "2  [gente, eu, amo, esses, perfuminhos, da, jequi...\n",
       "3  [minha, colega, pediu, um, chiclete,, fui, pro...\n",
       "4  [bolsa, cai,, dólar, sobe,, o, país, se, desma..."
      ]
     },
     "execution_count": 90,
     "metadata": {},
     "output_type": "execute_result"
    }
   ],
   "source": [
    "#fazendo a limpeza do arquivo\n",
    "def limpar_caracteres(tabela, titulo):\n",
    "    i = tabela[titulo]\n",
    "    i = i.str.lower()\n",
    "\n",
    "    itens = ['.', ':', ';', '\"', \"'\", '?', '(', ')', '[',']',',', '\\n', '\\t','@','?','%',]\n",
    "    i2 = ['?', '!']\n",
    "    emojis = emoji_list.all_emoji\n",
    "    for emoji in emojis:\n",
    "        try:\n",
    "            i = i.str.replace(emoji,\" {} \".format(emoji) )\n",
    "        except:\n",
    "            pass\n",
    "    for e in itens:\n",
    "        i = i.str.replace(e,'')\n",
    "    for e in i2:\n",
    "        i = i.str.replace(e,' {} '.format(e))\n",
    "\n",
    "    i = i.str.replace('é','e')\n",
    "    i = i.str.replace('ê','e')\n",
    "    i = i.str.replace('á','a')\n",
    "    i = i.str.replace('ã','a')\n",
    "    i = i.str.replace('ô','o')\n",
    "    i = i.str.replace('ó','o')\n",
    "    i = i.str.replace('ú','u')\n",
    "    i = i.str.replace('ç','c')\n",
    "    i = i.str.replace('í','i')\n",
    "    i = i.str.replace('@','')\n",
    "    i = i.str.replace('?','')\n",
    "    i = i.str.replace(',','.')\n",
    "        \n",
    "    tabela[titulo] = i\n",
    "\n",
    "    return tabela\n",
    "\n",
    "\n",
    "titulo=\"Treinamento\"\n",
    "\n",
    "tabela=limpar_caracteres(tabela, titulo)\n",
    "\n",
    "def separador(tabela, titulo):\n",
    "    i = tabela[titulo].str.split(' ')\n",
    "\n",
    "    nova = pd.DataFrame()\n",
    "    nova['Tabela splitted'] = []\n",
    "\n",
    "    for lista in i:\n",
    "        for e in ['#','' , ' ', 'rt']:\n",
    "            while lista.count(e) != 0:\n",
    "                lista.remove(e)\n",
    "\n",
    "        for palavra in lista:\n",
    "            \n",
    "            if palavra[:4] == 'http':\n",
    "                lista.remove(palavra)\n",
    "        nova = nova.append({'Tabela splitted': lista}, ignore_index=True)\n",
    "                \n",
    "    return nova\n",
    "nova=separador(dados,titulo)\n",
    "\n",
    "\n",
    "def tabela_palavras(tabela):\n",
    "    a = tabela['Tabela splitted']\n",
    "    prob = pd.DataFrame()\n",
    "    prob['Tabela splitted'] = []\n",
    "    for lista in a:\n",
    "        for e in lista:\n",
    "            prob = prob.append({'Tabela splitted': e}, ignore_index=True)\n",
    "    \n",
    "    return prob['Tabela splitted']\n",
    "dados_palavras=tabela_palavras(nova)\n",
    "nova.head()\n"
   ]
  },
  {
   "cell_type": "markdown",
   "metadata": {},
   "source": [
    "___\n",
    "### Montando um Classificador Naive-Bayes\n",
    "\n",
    "Considerando apenas as mensagens da planilha Treinamento, ensine  seu classificador."
   ]
  },
  {
   "cell_type": "code",
   "execution_count": 57,
   "metadata": {},
   "outputs": [
    {
     "data": {
      "text/plain": [
       "bolsa    0.038183\n",
       "a        0.031255\n",
       "de       0.030947\n",
       "e        0.028791\n",
       "o        0.021093\n",
       "Name: Tabela splitted, dtype: float64"
      ]
     },
     "execution_count": 57,
     "metadata": {},
     "output_type": "execute_result"
    }
   ],
   "source": [
    "palavra=dados_palavras.value_counts(True) #probabilidade de sorteio das palavras que possuem a maior ocorrencia no dataframe\n",
    "palavra.head()"
   ]
  },
  {
   "cell_type": "code",
   "execution_count": 58,
   "metadata": {},
   "outputs": [
    {
     "data": {
      "text/html": [
       "<div>\n",
       "<style scoped>\n",
       "    .dataframe tbody tr th:only-of-type {\n",
       "        vertical-align: middle;\n",
       "    }\n",
       "\n",
       "    .dataframe tbody tr th {\n",
       "        vertical-align: top;\n",
       "    }\n",
       "\n",
       "    .dataframe thead th {\n",
       "        text-align: right;\n",
       "    }\n",
       "</style>\n",
       "<table border=\"1\" class=\"dataframe\">\n",
       "  <thead>\n",
       "    <tr style=\"text-align: right;\">\n",
       "      <th></th>\n",
       "      <th>Treinamento</th>\n",
       "    </tr>\n",
       "    <tr>\n",
       "      <th>B1</th>\n",
       "      <th></th>\n",
       "    </tr>\n",
       "  </thead>\n",
       "  <tbody>\n",
       "    <tr>\n",
       "      <th>1</th>\n",
       "      <td>dólar cai a r$ 4,64, e bolsa avança mais de 7%...</td>\n",
       "    </tr>\n",
       "    <tr>\n",
       "      <th>1</th>\n",
       "      <td>@albuquerque_af @tradersclubbr entrei no final...</td>\n",
       "    </tr>\n",
       "    <tr>\n",
       "      <th>1</th>\n",
       "      <td>bolsa cai, dólar sobe, o país se desmancha (9....</td>\n",
       "    </tr>\n",
       "    <tr>\n",
       "      <th>1</th>\n",
       "      <td>@brunosouzasc você pode me explicar onde está ...</td>\n",
       "    </tr>\n",
       "    <tr>\n",
       "      <th>1</th>\n",
       "      <td>📈🇧🇷 #últimahora la bolsa de sao paulo se dispa...</td>\n",
       "    </tr>\n",
       "  </tbody>\n",
       "</table>\n",
       "</div>"
      ],
      "text/plain": [
       "                                          Treinamento\n",
       "B1                                                   \n",
       "1   dólar cai a r$ 4,64, e bolsa avança mais de 7%...\n",
       "1   @albuquerque_af @tradersclubbr entrei no final...\n",
       "1   bolsa cai, dólar sobe, o país se desmancha (9....\n",
       "1   @brunosouzasc você pode me explicar onde está ...\n",
       "1   📈🇧🇷 #últimahora la bolsa de sao paulo se dispa..."
      ]
     },
     "execution_count": 58,
     "metadata": {},
     "output_type": "execute_result"
    }
   ],
   "source": [
    "#Dataframe relevante \n",
    "relevantes = dados.loc[(dados['B1'])==1]\n",
    "relevantes.set_index('B1',inplace=True)\n",
    "relevantes.head()"
   ]
  },
  {
   "cell_type": "code",
   "execution_count": 74,
   "metadata": {},
   "outputs": [
    {
     "data": {
      "text/html": [
       "<div>\n",
       "<style scoped>\n",
       "    .dataframe tbody tr th:only-of-type {\n",
       "        vertical-align: middle;\n",
       "    }\n",
       "\n",
       "    .dataframe tbody tr th {\n",
       "        vertical-align: top;\n",
       "    }\n",
       "\n",
       "    .dataframe thead th {\n",
       "        text-align: right;\n",
       "    }\n",
       "</style>\n",
       "<table border=\"1\" class=\"dataframe\">\n",
       "  <thead>\n",
       "    <tr style=\"text-align: right;\">\n",
       "      <th></th>\n",
       "      <th>Treinamento</th>\n",
       "    </tr>\n",
       "    <tr>\n",
       "      <th>B1</th>\n",
       "      <th></th>\n",
       "    </tr>\n",
       "  </thead>\n",
       "  <tbody>\n",
       "    <tr>\n",
       "      <th>0</th>\n",
       "      <td>gente eu amo esses perfuminhos da jequiti d le...</td>\n",
       "    </tr>\n",
       "    <tr>\n",
       "      <th>0</th>\n",
       "      <td>minha colega pediu um chiclete, fui procurar n...</td>\n",
       "    </tr>\n",
       "    <tr>\n",
       "      <th>0</th>\n",
       "      <td>em 2020 estamos com uma fila enorme no bolsa f...</td>\n",
       "    </tr>\n",
       "    <tr>\n",
       "      <th>0</th>\n",
       "      <td>@lulaoficial cuidar dos pobres é uma maravilha...</td>\n",
       "    </tr>\n",
       "    <tr>\n",
       "      <th>0</th>\n",
       "      <td>uma das minhas maiores certezas na vida era qu...</td>\n",
       "    </tr>\n",
       "  </tbody>\n",
       "</table>\n",
       "</div>"
      ],
      "text/plain": [
       "                                          Treinamento\n",
       "B1                                                   \n",
       "0   gente eu amo esses perfuminhos da jequiti d le...\n",
       "0   minha colega pediu um chiclete, fui procurar n...\n",
       "0   em 2020 estamos com uma fila enorme no bolsa f...\n",
       "0   @lulaoficial cuidar dos pobres é uma maravilha...\n",
       "0   uma das minhas maiores certezas na vida era qu..."
      ]
     },
     "execution_count": 74,
     "metadata": {},
     "output_type": "execute_result"
    }
   ],
   "source": [
    "#Dataframe irrelevante\n",
    "irrelevantes = dados.loc[(dados['B1'])==0]\n",
    "irrelevantes.set_index('B1',inplace=True)\n",
    "irrelevantes.head()"
   ]
  },
  {
   "cell_type": "code",
   "execution_count": 92,
   "metadata": {},
   "outputs": [],
   "source": [
    "#Split os tweets dos dataframes criados acima\n",
    "relevante_separado=separador(relevantes,titulo)\n",
    "irrelevante_separado=separador(irrelevantes,titulo)"
   ]
  },
  {
   "cell_type": "code",
   "execution_count": 81,
   "metadata": {
    "scrolled": false
   },
   "outputs": [
    {
     "data": {
      "text/plain": [
       "bolsa    125\n",
       "a        119\n",
       "de       110\n",
       "e         98\n",
       "o         81\n",
       "Name: Tabela splitted, dtype: int64"
      ]
     },
     "execution_count": 81,
     "metadata": {},
     "output_type": "execute_result"
    }
   ],
   "source": [
    "#calculando quantas vezes cada palavra aparece nos tweets relevantes\n",
    "splited_relevante=tabela_palavras(relevante_separado)\n",
    "prob_relevante = splited_relevante.value_counts(True) \n",
    "num_palavras_relevante = splited_relevante.value_counts()\n",
    "num_palavras_relevante.head()"
   ]
  },
  {
   "cell_type": "code",
   "execution_count": 83,
   "metadata": {},
   "outputs": [
    {
     "data": {
      "text/plain": [
       "bolsa    123\n",
       "de        91\n",
       "e         89\n",
       "a         84\n",
       "o         56\n",
       "Name: Tabela splitted, dtype: int64"
      ]
     },
     "execution_count": 83,
     "metadata": {},
     "output_type": "execute_result"
    }
   ],
   "source": [
    "#calculando quantas vezes cada palavra aparece nos tweets irrelevantes\n",
    "splited_irrelevante=tabela_palavras(irrelevante_separado)\n",
    "prob_irrelevante = splited_irrelevante.value_counts(True) \n",
    "num_palavras_irrelevante = splited_irrelevante.value_counts()\n",
    "num_palavras_irrelevante.head()"
   ]
  },
  {
   "cell_type": "code",
   "execution_count": 78,
   "metadata": {},
   "outputs": [
    {
     "data": {
      "text/plain": [
       "0.03653902367728734"
      ]
     },
     "execution_count": 78,
     "metadata": {},
     "output_type": "execute_result"
    }
   ],
   "source": [
    "# probabilidade de ocorrencia da palavra bolsa dentro do database relevante\n",
    "prob_relevante['bolsa']"
   ]
  },
  {
   "cell_type": "code",
   "execution_count": 85,
   "metadata": {},
   "outputs": [],
   "source": [
    "#calculando a quantidade total de palavras temos em nosso database\n",
    "tamanho=[]\n",
    "newnova=nova.iloc[0:,0]\n",
    "for t in newnova:\n",
    "    for b in t:\n",
    "        tamanho.append(b)"
   ]
  },
  {
   "cell_type": "code",
   "execution_count": 80,
   "metadata": {},
   "outputs": [],
   "source": [
    "#criando novas colunas para o database final\n",
    "nova[\"Classificacao Manual\"] = pd.Series(dados[\"B1\"])\n",
    "nova[\"Classificacao_Naive\"] = pd.Series()\n",
    "nova[\"Resposta\"] = pd.Series()"
   ]
  },
  {
   "cell_type": "markdown",
   "metadata": {},
   "source": [
    "### Suavização de Laplace"
   ]
  },
  {
   "cell_type": "code",
   "execution_count": 87,
   "metadata": {},
   "outputs": [
    {
     "name": "stderr",
     "output_type": "stream",
     "text": [
      "C:\\Users\\Fernando\\Anaconda3\\lib\\site-packages\\ipykernel_launcher.py:38: SettingWithCopyWarning: \n",
      "A value is trying to be set on a copy of a slice from a DataFrame\n",
      "\n",
      "See the caveats in the documentation: http://pandas.pydata.org/pandas-docs/stable/indexing.html#indexing-view-versus-copy\n",
      "C:\\Users\\Fernando\\Anaconda3\\lib\\site-packages\\ipykernel_launcher.py:40: SettingWithCopyWarning: \n",
      "A value is trying to be set on a copy of a slice from a DataFrame\n",
      "\n",
      "See the caveats in the documentation: http://pandas.pydata.org/pandas-docs/stable/indexing.html#indexing-view-versus-copy\n",
      "C:\\Users\\Fernando\\Anaconda3\\lib\\site-packages\\pandas\\core\\indexing.py:189: SettingWithCopyWarning: \n",
      "A value is trying to be set on a copy of a slice from a DataFrame\n",
      "\n",
      "See the caveats in the documentation: http://pandas.pydata.org/pandas-docs/stable/indexing.html#indexing-view-versus-copy\n",
      "  self._setitem_with_indexer(indexer, value)\n",
      "C:\\Users\\Fernando\\Anaconda3\\lib\\site-packages\\ipykernel_launcher.py:46: SettingWithCopyWarning: \n",
      "A value is trying to be set on a copy of a slice from a DataFrame\n",
      "\n",
      "See the caveats in the documentation: http://pandas.pydata.org/pandas-docs/stable/indexing.html#indexing-view-versus-copy\n",
      "C:\\Users\\Fernando\\Anaconda3\\lib\\site-packages\\ipykernel_launcher.py:48: SettingWithCopyWarning: \n",
      "A value is trying to be set on a copy of a slice from a DataFrame\n",
      "\n",
      "See the caveats in the documentation: http://pandas.pydata.org/pandas-docs/stable/indexing.html#indexing-view-versus-copy\n",
      "C:\\Users\\Fernando\\Anaconda3\\lib\\site-packages\\ipykernel_launcher.py:50: SettingWithCopyWarning: \n",
      "A value is trying to be set on a copy of a slice from a DataFrame\n",
      "\n",
      "See the caveats in the documentation: http://pandas.pydata.org/pandas-docs/stable/indexing.html#indexing-view-versus-copy\n",
      "C:\\Users\\Fernando\\Anaconda3\\lib\\site-packages\\ipykernel_launcher.py:42: SettingWithCopyWarning: \n",
      "A value is trying to be set on a copy of a slice from a DataFrame\n",
      "\n",
      "See the caveats in the documentation: http://pandas.pydata.org/pandas-docs/stable/indexing.html#indexing-view-versus-copy\n"
     ]
    }
   ],
   "source": [
    "#criando um contador para percorrer o database linha por linha\n",
    "a=0\n",
    "#criando as variaveis que serão usadas na suavização de Laplace\n",
    "total=len(tamanho)\n",
    "total_relevantes=len(num_palavras_relevante)\n",
    "total_irrelevantes=len(num_palavras_irrelevante)\n",
    "len_01=len(num_palavras_relevante)\n",
    "len_00=len(num_palavras_irrelevante)\n",
    "#fazendo a suavização de Laplace\n",
    "for valor in nova[\"Tabela splitted\"]:\n",
    "    alpha = 1\n",
    "    prob01 = 1\n",
    "    prob00 = 1\n",
    "    for val in valor:\n",
    "        #caso a palavra não exista no nosso database, terá seu valor alterado, para uma melhor \n",
    "        #classificação do Naive Bayers\n",
    "        if val not in num_palavras_relevante or val not in num_palavras_irrelevante:\n",
    "            sec01 = alpha\n",
    "            sec00 = alpha\n",
    "        \n",
    "        else:\n",
    "            sec00=num_palavras_irrelevante[val] + alpha\n",
    "            sec01=num_palavras_relevante[val] + alpha\n",
    "            \n",
    "            \n",
    "        if val in num_palavras_relevante:\n",
    "            prob01 *= (num_palavras_relevante[val] + alpha) / (total_relevantes + total*alpha)\n",
    "        else: \n",
    "            prob01 *= sec01/(len(num_palavras_relevante)+total*alpha)\n",
    "        \n",
    "        if val in num_palavras_irrelevante:   \n",
    "            prob00 *= (num_palavras_irrelevante[val] + alpha) / (total_irrelevantes + total*alpha)\n",
    "        else:\n",
    "            prob00 *= sec00/(len(num_palavras_irrelevante)+total*alpha)\n",
    "       \n",
    "    if prob01>prob00:\n",
    "        prob_x = 1\n",
    "        nova[\"Classificacao_Naive\"][a] = prob_x\n",
    "        if nova[\"Classificacao Manual\"][a] == prob_x:\n",
    "            nova[\"Resposta\"][a] = \"Positivo = True\"\n",
    "        elif nova[\"Classificacao Manual\"][a] != prob_x:\n",
    "            nova[\"Resposta\"][a] = \"Positivo = False\"\n",
    "            \n",
    "    elif prob01<prob00:\n",
    "        prob_x = 0\n",
    "        nova[\"Classificacao_Naive\"][a] = prob_x\n",
    "        if nova[\"Classificacao Manual\"][a] == prob_x:\n",
    "            nova[\"Resposta\"][a] =\"Negativo = True\"\n",
    "        elif nova[\"Classificacao Manual\"][a] != prob_x:\n",
    "            nova[\"Resposta\"][a] =\"Negativo = False\"\n",
    "    a+=1\n",
    "resultado=nova"
   ]
  },
  {
   "cell_type": "markdown",
   "metadata": {},
   "source": [
    "___\n",
    "### Verificando a performance do Classificador\n",
    "\n",
    "Agora você deve testar o seu classificador com a base de Testes."
   ]
  },
  {
   "cell_type": "code",
   "execution_count": null,
   "metadata": {},
   "outputs": [],
   "source": []
  },
  {
   "cell_type": "code",
   "execution_count": null,
   "metadata": {},
   "outputs": [],
   "source": []
  },
  {
   "cell_type": "code",
   "execution_count": null,
   "metadata": {},
   "outputs": [],
   "source": []
  },
  {
   "cell_type": "markdown",
   "metadata": {},
   "source": [
    "___\n",
    "### Concluindo"
   ]
  },
  {
   "cell_type": "code",
   "execution_count": null,
   "metadata": {},
   "outputs": [],
   "source": []
  },
  {
   "cell_type": "code",
   "execution_count": null,
   "metadata": {},
   "outputs": [],
   "source": []
  },
  {
   "cell_type": "markdown",
   "metadata": {},
   "source": [
    "___\n",
    "## Aperfeiçoamento:\n",
    "\n",
    "Os trabalhos vão evoluir em conceito dependendo da quantidade de itens avançados:\n",
    "\n",
    "* Limpar: \\n, :, \", ', (, ), etc SEM remover emojis\n",
    "* Corrigir separação de espaços entre palavras e emojis ou entre emojis e emojis\n",
    "* Propor outras limpezas e transformações que não afetem a qualidade da informação ou classificação\n",
    "* Criar categorias intermediárias de relevância baseadas na probabilidade: ex.: muito relevante, relevante, neutro, irrelevante, muito irrelevante (3 categorias: C, mais categorias conta para B)\n",
    "* Explicar por que não posso usar o próprio classificador para gerar mais amostras de treinamento\n",
    "* Propor diferentes cenários para Naïve Bayes fora do contexto do projeto\n",
    "* Sugerir e explicar melhorias reais com indicações concretas de como implementar (indicar como fazer e indicar material de pesquisa)\n",
    "* Montar um dashboard que periodicamente realiza análise de sentimento e visualiza estes dados"
   ]
  },
  {
   "cell_type": "markdown",
   "metadata": {},
   "source": [
    "___\n",
    "## Referências"
   ]
  },
  {
   "cell_type": "markdown",
   "metadata": {},
   "source": [
    "[Naive Bayes and Text Classification](https://arxiv.org/pdf/1410.5329.pdf)  **Mais completo**\n",
    "\n",
    "[A practical explanation of a Naive Bayes Classifier](https://monkeylearn.com/blog/practical-explanation-naive-bayes-classifier/) **Mais simples**"
   ]
  },
  {
   "cell_type": "code",
   "execution_count": null,
   "metadata": {},
   "outputs": [],
   "source": []
  },
  {
   "cell_type": "code",
   "execution_count": null,
   "metadata": {},
   "outputs": [],
   "source": []
  }
 ],
 "metadata": {
  "kernelspec": {
   "display_name": "Python 3",
   "language": "python",
   "name": "python3"
  },
  "language_info": {
   "codemirror_mode": {
    "name": "ipython",
    "version": 3
   },
   "file_extension": ".py",
   "mimetype": "text/x-python",
   "name": "python",
   "nbconvert_exporter": "python",
   "pygments_lexer": "ipython3",
   "version": "3.7.1"
  }
 },
 "nbformat": 4,
 "nbformat_minor": 4
}
