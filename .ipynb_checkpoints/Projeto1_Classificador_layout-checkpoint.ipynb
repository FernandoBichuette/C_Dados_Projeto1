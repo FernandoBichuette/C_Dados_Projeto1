{
 "cells": [
  {
   "cell_type": "markdown",
   "metadata": {},
   "source": [
    "# Projeto 1 - Ciência dos Dados"
   ]
  },
  {
   "cell_type": "markdown",
   "metadata": {},
   "source": [
    "Nome: _____\n",
    "\n",
    "Nome: _____"
   ]
  },
  {
   "cell_type": "markdown",
   "metadata": {},
   "source": [
    "Atenção: Serão permitidos grupos de três pessoas, mas com uma rubrica mais exigente. Grupos deste tamanho precisarão fazer um questionário de avaliação de trabalho em equipe"
   ]
  },
  {
   "cell_type": "markdown",
   "metadata": {},
   "source": [
    "___\n",
    "Carregando algumas bibliotecas:"
   ]
  },
  {
   "cell_type": "code",
   "execution_count": 11,
   "metadata": {},
   "outputs": [],
   "source": [
    "%matplotlib inline\n",
    "import pandas as pd\n",
    "import matplotlib.pyplot as plt\n",
    "import numpy as np\n",
    "import os\n",
    "import emoji_list\n",
    "import re"
   ]
  },
  {
   "cell_type": "code",
   "execution_count": 12,
   "metadata": {
    "scrolled": false
   },
   "outputs": [
    {
     "name": "stdout",
     "output_type": "stream",
     "text": [
      "Esperamos trabalhar no diretório\n",
      "C:\\Users\\Fernando\\Documents\\Insper\\3° Semestre\\Ciencia dos Dados\\Projeto 1\n"
     ]
    }
   ],
   "source": [
    "print('Esperamos trabalhar no diretório')\n",
    "print(os.getcwd())"
   ]
  },
  {
   "cell_type": "markdown",
   "metadata": {},
   "source": [
    "Carregando a base de dados com os tweets classificados como relevantes e não relevantes:"
   ]
  },
  {
   "cell_type": "code",
   "execution_count": 13,
   "metadata": {},
   "outputs": [],
   "source": [
    "#importando database\n",
    "dados=pd.read_excel(\"bolsa.xlsx\",'Treinamento')"
   ]
  },
  {
   "cell_type": "markdown",
   "metadata": {},
   "source": [
    "___\n",
    "## Classificador automático de sentimento\n"
   ]
  },
  {
   "cell_type": "markdown",
   "metadata": {},
   "source": [
    "Faça aqui uma descrição do seu produto e o que considerou como relevante ou não relevante na classificação dos tweets.\n",
    "\n",
    "Relevante: Bolsa de valores\n",
    "Irrelevante: Resto"
   ]
  },
  {
   "cell_type": "markdown",
   "metadata": {},
   "source": [
    "## Limpando database"
   ]
  },
  {
   "cell_type": "code",
   "execution_count": 19,
   "metadata": {},
   "outputs": [
    {
     "name": "stdout",
     "output_type": "stream",
     "text": [
      "                                              palavras\n",
      "0    [dolar, cai, a, r, 4, 6, 4, e, bolsa, avanca, ...\n",
      "1    [albuquerque_af, tradersclubbr, entrei, no, fi...\n",
      "2    [gente, eu, amo, esses, perfuminhos, da, jequi...\n",
      "3    [minha, colega, pediu, um, chiclete, fui, proc...\n",
      "4    [bolsa, cai, dolar, sobe, o, pais, se, desmanc...\n",
      "5    [em, 2, 0, 2, 0, estamos, com, uma, fila, enor...\n",
      "6    [brunosouzasc, voce, pode, me, explicar, onde,...\n",
      "7    [📈, 🇧, 🇷, ultimahora, la, bolsa, de, sao, paul...\n",
      "8    [lulaoficial, cuidar, dos, pobres, e, uma, mar...\n",
      "9    [uma, das, minhas, maiores, certezas, na, vida...\n",
      "10   [bolsa, brasileira, perde, r, 1, trilhao, em, ...\n",
      "11   [claudioedantas, mudou, o, presidente, ou, mud...\n",
      "12   [ai, voce, empresta, sua, caneta, pro, seu, am...\n",
      "13   [_elidanobrega, finge, q, eu, sou, tuas, droga...\n",
      "14   [o, pior, e, a, professora, dela, que, ja, ta,...\n",
      "15   [pedrocerize, minha, amostra, e, pequena, mas,...\n",
      "16   [“ainda, gosto, da, bolsa, como, investimento,...\n",
      "17   [monadorf, nao, existe, restricao, para, aglom...\n",
      "18   [euneil, nao, nao, ele, falou, q, foi, a, maio...\n",
      "19   [pauladosreisfe, 1, fhernando_sena, samiabomfi...\n",
      "20   [e, a, bolsa, nao, e, minha, ja, sabia, nada, ...\n",
      "21   [hoc, 1, 1, 1, me, diz, que, foi, um, erro, de...\n",
      "22   [nao, sei, que, remedio, q, toma, pra, dor, no...\n",
      "23   [finalmente, a, bolsa, voltou, a, crescer, !, ...\n",
      "24   [agora, eu, cismei, que, quero, uma, bolsa, da...\n",
      "25   [no, caso, estamos, cortando, bolsa, familia, ...\n",
      "26   [sera, o, fim, do, bolsa, vagabundo, 1, 2, con...\n",
      "27   [gente, que, anda, com, os, bracos, abertos, e...\n",
      "28   [cade, minha, bolsa, ufmaoficial, 4, zroz, 8, ...\n",
      "29   [os, amigo, liberal, chorando, c, dolar, caro,...\n",
      "..                                                 ...\n",
      "270  [com, a, guerra, de, precos, no, petroleo, ini...\n",
      "271  [aliceroriz, 4, c, tem, bolsa, “nao”, ah, pode...\n",
      "272  [aguiarcrvg, eu, sei, amiga, era, pra, minha, ...\n",
      "273  [quando, eu, fazia, teatro, o, meu, pai, dizia...\n",
      "274  [caralho, eu, nem, na, minha, bolsa, eu, mando...\n",
      "275  [voce, foi, batizado, ontem, pela, bolsa, agor...\n",
      "276  [raphylsker, leoss, 1, 5, 1, 5, gus_barboza, l...\n",
      "277  [mas, a, imprensa, nao, estava, prevendo, a, c...\n",
      "278  [o, senador, priscobezerra, pdt-ce, classifico...\n",
      "279  [me, doi, muito, saber, da, imaturidade, de, u...\n",
      "280     [a, bolsa, e, puro, emocional, ne, 9, s, 6, n]\n",
      "281  [_raphaaelaa, bolsa, de, maternidade, e, so, j...\n",
      "282  [lets_dex, apos, tombo, de, segunda, bolsa, te...\n",
      "283  [ontem, o, gorila, foi, conferir, o, “ring, th...\n",
      "284  [danielleblasio, leiloka, 7, cortina, de, fuma...\n",
      "285  [um, passarinho, cagou, na, minha, bolsa, ☺, ️...\n",
      "286  [marco_abreuu, marco, bolsa, voce, tem, que, p...\n",
      "287  [chegando, na, bolsa, como, se, nao, tivesse, ...\n",
      "288  [gcassianosp, rconstantino, quem, causou, a, q...\n",
      "289                 [babeezinha, tu, conseguiu, bolsa]\n",
      "290  [meu, pai, investiu, na, bolsa, de, sp, e, ta,...\n",
      "291  [a, bolsa, deu, um, mergulhoem, suas, obscurid...\n",
      "292  [bolsa, salta, 7, e, tem, maior, alta, em, uma...\n",
      "293  [com, colica, tendo, que, por, bolsa, de, agua...\n",
      "294  [1, h, 1, 8, m, procurando, bolsa, e, nenhuma,...\n",
      "295  [bolsa, maternidade, do, noah, ja, ta, arrumad...\n",
      "296  [claudioedantas, corre, aqui, veramagalhaes, c...\n",
      "297  [corumbamarco, alecarlosaguiar, queria, ver, s...\n",
      "298  [ano, passado, sai, de, um, emprego, pra, curs...\n",
      "299  [oneequachan, pior, que, a, prova, que, fiz, f...\n",
      "\n",
      "[300 rows x 1 columns]\n"
     ]
    }
   ],
   "source": [
    "#fazendo a limpeza do arquivo\n",
    "def limpar_caracteres(tabela, titulo):\n",
    "    a = tabela[titulo]\n",
    "    a = a.str.lower()\n",
    "\n",
    "    itens = ['.', ':', ';', '\"', \"'\", '?', '(', ')', '[',']',',', '\\n', '\\t','@','?','%','$']\n",
    "    i2 = ['?', '!']\n",
    "    emojis = emoji_list.all_emoji\n",
    "    for emoji in emojis:\n",
    "        try:\n",
    "            a = a.str.replace(emoji,\" {} \".format(emoji) )\n",
    "        except:\n",
    "            pass\n",
    "    for e in itens:\n",
    "        a = a.str.replace(e,'')\n",
    "    for e in i2:\n",
    "        a = a.str.replace(e,' {} '.format(e))\n",
    "\n",
    "    a = a.str.replace('é','e')\n",
    "    a = a.str.replace('ê','e')\n",
    "    a = a.str.replace('á','a')\n",
    "    a = a.str.replace('ã','a')\n",
    "    a = a.str.replace('ô','o')\n",
    "    a = a.str.replace('ó','o')\n",
    "    a = a.str.replace('ú','u')\n",
    "    a = a.str.replace('ç','c')\n",
    "    a = a.str.replace('í','i')\n",
    "    a = a.str.replace('@','')\n",
    "    a = a.str.replace('?','')\n",
    "    a = a.str.replace(',','.')\n",
    "        \n",
    "    tabela[titulo] = a\n",
    "\n",
    "    return tabela\n",
    "titulo=\"Treinamento\"\n",
    "tabela=limpar_caracteres(dados,titulo)\n",
    "\n",
    "\n",
    "def split_tweet(tabela, titulo):\n",
    "    a = tabela[titulo].str.split(' ')\n",
    "\n",
    "    nova = pd.DataFrame()\n",
    "    nova['palavras'] = []\n",
    "\n",
    "    for lista in a:\n",
    "        for e in ['#','' , ' ', 'rt']:\n",
    "            while lista.count(e) != 0:\n",
    "                lista.remove(e)\n",
    "\n",
    "        for palavra in lista:\n",
    "            \n",
    "            if palavra[:4] == 'http':\n",
    "                lista.remove(palavra)\n",
    "        nova = nova.append({'palavras': lista}, ignore_index=True)\n",
    "                \n",
    "    return nova\n",
    "nova=split_tweet(dados,titulo)\n",
    "\n",
    "def tabela_palavras(tabela):\n",
    "    a = tabela['palavras']\n",
    "    prob = pd.DataFrame()\n",
    "    prob['palavras'] = []\n",
    "    for lista in a:\n",
    "        for e in lista:\n",
    "            prob = prob.append({'palavras': e}, ignore_index=True)\n",
    "    \n",
    "    return prob['palavras']\n",
    "dados_palavras=tabela_palavras(nova)\n",
    "print(nova)"
   ]
  },
  {
   "cell_type": "markdown",
   "metadata": {},
   "source": [
    "___\n",
    "### Montando um Classificador Naive-Bayes\n",
    "\n",
    "Considerando apenas as mensagens da planilha Treinamento, ensine  seu classificador."
   ]
  },
  {
   "cell_type": "code",
   "execution_count": null,
   "metadata": {},
   "outputs": [],
   "source": []
  },
  {
   "cell_type": "code",
   "execution_count": null,
   "metadata": {},
   "outputs": [],
   "source": []
  },
  {
   "cell_type": "code",
   "execution_count": null,
   "metadata": {},
   "outputs": [],
   "source": []
  },
  {
   "cell_type": "markdown",
   "metadata": {},
   "source": [
    "___\n",
    "### Verificando a performance do Classificador\n",
    "\n",
    "Agora você deve testar o seu classificador com a base de Testes."
   ]
  },
  {
   "cell_type": "code",
   "execution_count": null,
   "metadata": {},
   "outputs": [],
   "source": []
  },
  {
   "cell_type": "code",
   "execution_count": null,
   "metadata": {},
   "outputs": [],
   "source": []
  },
  {
   "cell_type": "code",
   "execution_count": null,
   "metadata": {},
   "outputs": [],
   "source": []
  },
  {
   "cell_type": "markdown",
   "metadata": {},
   "source": [
    "___\n",
    "### Concluindo"
   ]
  },
  {
   "cell_type": "code",
   "execution_count": null,
   "metadata": {},
   "outputs": [],
   "source": []
  },
  {
   "cell_type": "code",
   "execution_count": null,
   "metadata": {},
   "outputs": [],
   "source": []
  },
  {
   "cell_type": "markdown",
   "metadata": {},
   "source": [
    "___\n",
    "## Aperfeiçoamento:\n",
    "\n",
    "Os trabalhos vão evoluir em conceito dependendo da quantidade de itens avançados:\n",
    "\n",
    "* Limpar: \\n, :, \", ', (, ), etc SEM remover emojis\n",
    "* Corrigir separação de espaços entre palavras e emojis ou entre emojis e emojis\n",
    "* Propor outras limpezas e transformações que não afetem a qualidade da informação ou classificação\n",
    "* Criar categorias intermediárias de relevância baseadas na probabilidade: ex.: muito relevante, relevante, neutro, irrelevante, muito irrelevante (3 categorias: C, mais categorias conta para B)\n",
    "* Explicar por que não posso usar o próprio classificador para gerar mais amostras de treinamento\n",
    "* Propor diferentes cenários para Naïve Bayes fora do contexto do projeto\n",
    "* Sugerir e explicar melhorias reais com indicações concretas de como implementar (indicar como fazer e indicar material de pesquisa)\n",
    "* Montar um dashboard que periodicamente realiza análise de sentimento e visualiza estes dados"
   ]
  },
  {
   "cell_type": "markdown",
   "metadata": {},
   "source": [
    "___\n",
    "## Referências"
   ]
  },
  {
   "cell_type": "markdown",
   "metadata": {},
   "source": [
    "[Naive Bayes and Text Classification](https://arxiv.org/pdf/1410.5329.pdf)  **Mais completo**\n",
    "\n",
    "[A practical explanation of a Naive Bayes Classifier](https://monkeylearn.com/blog/practical-explanation-naive-bayes-classifier/) **Mais simples**"
   ]
  },
  {
   "cell_type": "code",
   "execution_count": null,
   "metadata": {},
   "outputs": [],
   "source": []
  }
 ],
 "metadata": {
  "kernelspec": {
   "display_name": "Python 3",
   "language": "python",
   "name": "python3"
  },
  "language_info": {
   "codemirror_mode": {
    "name": "ipython",
    "version": 3
   },
   "file_extension": ".py",
   "mimetype": "text/x-python",
   "name": "python",
   "nbconvert_exporter": "python",
   "pygments_lexer": "ipython3",
   "version": "3.7.1"
  }
 },
 "nbformat": 4,
 "nbformat_minor": 4
}
