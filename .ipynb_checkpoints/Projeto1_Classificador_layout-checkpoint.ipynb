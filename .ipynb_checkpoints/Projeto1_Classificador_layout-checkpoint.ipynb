{
 "cells": [
  {
   "cell_type": "markdown",
   "metadata": {},
   "source": [
    "# Projeto 1 - Ciência dos Dados"
   ]
  },
  {
   "cell_type": "markdown",
   "metadata": {},
   "source": [
    "Nome: Fernando Bichuette Assumpção\n",
    "\n",
    "Nome: Felipe Lacombe "
   ]
  },
  {
   "cell_type": "markdown",
   "metadata": {},
   "source": [
    "Atenção: Serão permitidos grupos de três pessoas, mas com uma rubrica mais exigente. Grupos deste tamanho precisarão fazer um questionário de avaliação de trabalho em equipe"
   ]
  },
  {
   "cell_type": "markdown",
   "metadata": {},
   "source": [
    "___\n",
    "Carregando algumas bibliotecas:"
   ]
  },
  {
   "cell_type": "code",
   "execution_count": 20,
   "metadata": {},
   "outputs": [],
   "source": [
    "%matplotlib inline\n",
    "import matplotlib.pyplot as plt\n",
    "import tweepy\n",
    "import math\n",
    "import os.path\n",
    "import pandas as pd\n",
    "import json\n",
    "import re\n",
    "import string\n",
    "import emoji_list\n",
    "import functools\n",
    "import operator\n",
    "from time import sleep\n",
    "from random import shuffle"
   ]
  },
  {
   "cell_type": "code",
   "execution_count": 21,
   "metadata": {
    "scrolled": false
   },
   "outputs": [
    {
     "name": "stdout",
     "output_type": "stream",
     "text": [
      "Esperamos trabalhar no diretório\n",
      "C:\\Users\\Fernando\\Documents\\Insper\\3° Semestre\\Ciencia dos Dados\\C_Dados_Projeto1\n"
     ]
    }
   ],
   "source": [
    "print('Esperamos trabalhar no diretório')\n",
    "print(os.getcwd())"
   ]
  },
  {
   "cell_type": "markdown",
   "metadata": {},
   "source": [
    "Carregando a base de dados com os tweets classificados como relevantes e não relevantes:"
   ]
  },
  {
   "cell_type": "code",
   "execution_count": 22,
   "metadata": {},
   "outputs": [],
   "source": [
    "#importando database\n",
    "dados=pd.read_excel(\"bolsa.xlsx\",'Teste')"
   ]
  },
  {
   "cell_type": "markdown",
   "metadata": {},
   "source": [
    "___\n",
    "## Classificador automático de sentimento\n"
   ]
  },
  {
   "cell_type": "markdown",
   "metadata": {},
   "source": [
    "Faça aqui uma descrição do seu produto e o que considerou como relevante ou não relevante na classificação dos tweets.\n",
    "\n",
    "No projeto 1 de Ciência de dados será feito um clasificador que vai analizar a palavra bolsa em todos os tweets e classificar se é relevante quando está relacionada a **bolsa de valores** e irrelevante quando é empregada em outro em outro sentido ex: bolsa familia, bolsa utilitaria e etc.\n"
   ]
  },
  {
   "cell_type": "markdown",
   "metadata": {},
   "source": [
    "## Limpando database"
   ]
  },
  {
   "cell_type": "code",
   "execution_count": 23,
   "metadata": {},
   "outputs": [
    {
     "data": {
      "text/html": [
       "<div>\n",
       "<style scoped>\n",
       "    .dataframe tbody tr th:only-of-type {\n",
       "        vertical-align: middle;\n",
       "    }\n",
       "\n",
       "    .dataframe tbody tr th {\n",
       "        vertical-align: top;\n",
       "    }\n",
       "\n",
       "    .dataframe thead th {\n",
       "        text-align: right;\n",
       "    }\n",
       "</style>\n",
       "<table border=\"1\" class=\"dataframe\">\n",
       "  <thead>\n",
       "    <tr style=\"text-align: right;\">\n",
       "      <th></th>\n",
       "      <th>Tabela splitted</th>\n",
       "    </tr>\n",
       "  </thead>\n",
       "  <tbody>\n",
       "    <tr>\n",
       "      <th>0</th>\n",
       "      <td>[agora, sigo, sem, bolsa, nenhuma, pq, as, dua...</td>\n",
       "    </tr>\n",
       "    <tr>\n",
       "      <th>1</th>\n",
       "      <td>[entrei, na, mr, cat, hoje, pra, comprar, uma,...</td>\n",
       "    </tr>\n",
       "    <tr>\n",
       "      <th>2</th>\n",
       "      <td>[zedassilva, zedassilva, e, um, disparate, sem...</td>\n",
       "    </tr>\n",
       "    <tr>\n",
       "      <th>3</th>\n",
       "      <td>[nos, ultimos, 1, 2, mesesibov, vs, cdi, cdi, ...</td>\n",
       "    </tr>\n",
       "    <tr>\n",
       "      <th>4</th>\n",
       "      <td>[luizabatista, bolsa, de, agua, quente, ou, ba...</td>\n",
       "    </tr>\n",
       "  </tbody>\n",
       "</table>\n",
       "</div>"
      ],
      "text/plain": [
       "                                     Tabela splitted\n",
       "0  [agora, sigo, sem, bolsa, nenhuma, pq, as, dua...\n",
       "1  [entrei, na, mr, cat, hoje, pra, comprar, uma,...\n",
       "2  [zedassilva, zedassilva, e, um, disparate, sem...\n",
       "3  [nos, ultimos, 1, 2, mesesibov, vs, cdi, cdi, ...\n",
       "4  [luizabatista, bolsa, de, agua, quente, ou, ba..."
      ]
     },
     "execution_count": 23,
     "metadata": {},
     "output_type": "execute_result"
    }
   ],
   "source": [
    "#fazendo a limpeza do arquivo\n",
    "titulo='Teste'\n",
    "\n",
    "def cleanup(tabela):\n",
    "    \n",
    "    tabela= tabela.replace(\"ç\",\"c\").replace(\"â\",\"a\").replace(\"ã\",\"a\").replace(\"à\",\"a\")\\\n",
    "    .replace(\"ê\",\"e\").replace('ú','u').replace(\"é\",\"e\").replace(\"ô\",\"o\").replace(\"õ\",\"o\").replace(\"/\",\" \")\\\n",
    "    .replace(\"?\",\" \").replace(\"!\",\" \").replace(\"@\",\" \").replace(\"\\n\",\" \").replace(\";\",\" \")\\\n",
    "    .replace(\",\",\"\").replace(\":\",\" \").replace(\"[\",\" \").replace(\"]\",\" \").replace(\"}\",\" \")\\\n",
    "    .replace(\"{\",\" \").replace(\"\\\\\",\" \").replace(' \" ',\" \").replace(\" ' \",\"\").replace(\" * \",\" \")\\\n",
    "    .replace(\" _ \",\" \").replace(\" - \",\" \").replace(\" . \",\" \").replace(\" rt \",\" \").replace(\"…\",\"\")\\\n",
    "    .replace(\"“\",\"\").replace(\"             \",\" \").replace(\"   \",\"\").replace(\"..\",\" \")\\\n",
    "    .replace(\"...\",\" \").replace(\"....\",\" \").replace(\".....\",\" \").replace(\"     \",\" \")\\\n",
    "    .replace(\"\\ \",\"\").replace(\"*\",\"\").replace(\")\",\"\").replace(' \" ',\" \").replace(\" ' \",\" \")\\\n",
    "    .replace(' \"',\" \").replace('\" ',\" \").replace('_',' ')\\\n",
    "    .replace('\"',\" \").replace('ó','o').replace('á','a')\n",
    "        \n",
    "    return tabela \n",
    "\n",
    "dados['Teste']=dados['Teste'].apply(cleanup)\n",
    "\n",
    "\n",
    "\n",
    "def separando_emoji(tabela,titulo):\n",
    "    i = tabela[titulo]\n",
    "    i = i.str.lower()\n",
    "    emojis = emoji_list.all_emoji\n",
    "    for emoji in emojis:\n",
    "        try:\n",
    "            i = i.str.replace(emoji,\" {} \".format(emoji) )\n",
    "        except:\n",
    "            pass\n",
    "    tabela[titulo] = i\n",
    "    return tabela\n",
    "\n",
    "dados_emoji=separando_emoji(dados,titulo)\n",
    "\n",
    "def separador(tabela,titulo):\n",
    "    i = tabela[titulo].str.split(' ')\n",
    "\n",
    "    nova = pd.DataFrame()\n",
    "    nova['Tabela splitted'] = []\n",
    "\n",
    "    for lista in i:\n",
    "        for e in ['#','' , ' ', 'rt']:\n",
    "            while lista.count(e) != 0:\n",
    "                lista.remove(e)\n",
    "\n",
    "        for palavra in lista:\n",
    "            if palavra[:1] == \"@\":\n",
    "                lista.remove(palavra)\n",
    "            if palavra[:4] == 'http':\n",
    "                lista.remove(palavra)\n",
    "        nova = nova.append({'Tabela splitted': lista}, ignore_index=True)\n",
    "    return nova\n",
    "\n",
    "\n",
    "def tabela_palavras(tabela):\n",
    "    a = tabela['Tabela splitted']\n",
    "    prob = pd.DataFrame()\n",
    "    prob['Tabela splitted'] = []\n",
    "    for lista in a:\n",
    "        for e in lista:\n",
    "            prob = prob.append({'Tabela splitted': e}, ignore_index=True)\n",
    "    \n",
    "    return prob['Tabela splitted']\n",
    "\n",
    "dados_limpos=separador(dados_emoji,titulo)\n",
    "\n",
    "dados_limpos.head()\n"
   ]
  },
  {
   "cell_type": "markdown",
   "metadata": {},
   "source": [
    "___\n",
    "### Montando um Classificador Naive-Bayes\n",
    "\n",
    "Considerando apenas as mensagens da planilha Treinamento, ensine  seu classificador."
   ]
  },
  {
   "cell_type": "code",
   "execution_count": 24,
   "metadata": {},
   "outputs": [
    {
     "data": {
      "text/plain": [
       "bolsa    198\n",
       "e        170\n",
       "de       163\n",
       "a        137\n",
       "que       94\n",
       "Name: Tabela splitted, dtype: int64"
      ]
     },
     "execution_count": 24,
     "metadata": {},
     "output_type": "execute_result"
    }
   ],
   "source": [
    "#Contando quantas vezes cada palavra aparece\n",
    "dados_formatados=tabela_palavras(dados_limpos)\n",
    "palavras=dados_formatados.value_counts()\n",
    "palavras.head()"
   ]
  },
  {
   "cell_type": "code",
   "execution_count": 25,
   "metadata": {},
   "outputs": [
    {
     "data": {
      "text/html": [
       "<div>\n",
       "<style scoped>\n",
       "    .dataframe tbody tr th:only-of-type {\n",
       "        vertical-align: middle;\n",
       "    }\n",
       "\n",
       "    .dataframe tbody tr th {\n",
       "        vertical-align: top;\n",
       "    }\n",
       "\n",
       "    .dataframe thead th {\n",
       "        text-align: right;\n",
       "    }\n",
       "</style>\n",
       "<table border=\"1\" class=\"dataframe\">\n",
       "  <thead>\n",
       "    <tr style=\"text-align: right;\">\n",
       "      <th></th>\n",
       "      <th>Teste</th>\n",
       "    </tr>\n",
       "    <tr>\n",
       "      <th>B1</th>\n",
       "      <th></th>\n",
       "    </tr>\n",
       "  </thead>\n",
       "  <tbody>\n",
       "    <tr>\n",
       "      <th>1</th>\n",
       "      <td>nos ultimos  1  2  mesesibov vs cdi  cdi ibov ...</td>\n",
       "    </tr>\n",
       "    <tr>\n",
       "      <th>1</th>\n",
       "      <td>apos tombo de segunda bolsa tem recuperacao e ...</td>\n",
       "    </tr>\n",
       "    <tr>\n",
       "      <th>1</th>\n",
       "      <td>entenda por que a bolsa de valores cai e o dol...</td>\n",
       "    </tr>\n",
       "    <tr>\n",
       "      <th>1</th>\n",
       "      <td>bolsa de sao paulo suspende negocios tras desp...</td>\n",
       "    </tr>\n",
       "    <tr>\n",
       "      <th>1</th>\n",
       "      <td>tereza parou a aula pra falar do coronga e da ...</td>\n",
       "    </tr>\n",
       "  </tbody>\n",
       "</table>\n",
       "</div>"
      ],
      "text/plain": [
       "                                                Teste\n",
       "B1                                                   \n",
       "1   nos ultimos  1  2  mesesibov vs cdi  cdi ibov ...\n",
       "1   apos tombo de segunda bolsa tem recuperacao e ...\n",
       "1   entenda por que a bolsa de valores cai e o dol...\n",
       "1   bolsa de sao paulo suspende negocios tras desp...\n",
       "1   tereza parou a aula pra falar do coronga e da ..."
      ]
     },
     "execution_count": 25,
     "metadata": {},
     "output_type": "execute_result"
    }
   ],
   "source": [
    "#Dataframe relevante \n",
    "relevantes = dados.loc[(dados['B1'])==1]\n",
    "relevantes.set_index('B1',inplace=True)\n",
    "relevantes.head()"
   ]
  },
  {
   "cell_type": "code",
   "execution_count": 26,
   "metadata": {},
   "outputs": [
    {
     "data": {
      "text/html": [
       "<div>\n",
       "<style scoped>\n",
       "    .dataframe tbody tr th:only-of-type {\n",
       "        vertical-align: middle;\n",
       "    }\n",
       "\n",
       "    .dataframe tbody tr th {\n",
       "        vertical-align: top;\n",
       "    }\n",
       "\n",
       "    .dataframe thead th {\n",
       "        text-align: right;\n",
       "    }\n",
       "</style>\n",
       "<table border=\"1\" class=\"dataframe\">\n",
       "  <thead>\n",
       "    <tr style=\"text-align: right;\">\n",
       "      <th></th>\n",
       "      <th>Teste</th>\n",
       "    </tr>\n",
       "    <tr>\n",
       "      <th>B1</th>\n",
       "      <th></th>\n",
       "    </tr>\n",
       "  </thead>\n",
       "  <tbody>\n",
       "    <tr>\n",
       "      <th>0</th>\n",
       "      <td>agora sigo sem bolsa nenhuma pq as duas que eu...</td>\n",
       "    </tr>\n",
       "    <tr>\n",
       "      <th>0</th>\n",
       "      <td>entrei na mr cat hoje pra comprar uma bolsa de...</td>\n",
       "    </tr>\n",
       "    <tr>\n",
       "      <th>0</th>\n",
       "      <td>zedassilva  zedassilva e um disparate  sem so...</td>\n",
       "    </tr>\n",
       "    <tr>\n",
       "      <th>0</th>\n",
       "      <td>luizabatista bolsa de agua quente ou banho b...</td>\n",
       "    </tr>\n",
       "    <tr>\n",
       "      <th>0</th>\n",
       "      <td>os crente gritando na minha cara aq na igreja ...</td>\n",
       "    </tr>\n",
       "  </tbody>\n",
       "</table>\n",
       "</div>"
      ],
      "text/plain": [
       "                                                Teste\n",
       "B1                                                   \n",
       "0   agora sigo sem bolsa nenhuma pq as duas que eu...\n",
       "0   entrei na mr cat hoje pra comprar uma bolsa de...\n",
       "0    zedassilva  zedassilva e um disparate  sem so...\n",
       "0     luizabatista bolsa de agua quente ou banho b...\n",
       "0   os crente gritando na minha cara aq na igreja ..."
      ]
     },
     "execution_count": 26,
     "metadata": {},
     "output_type": "execute_result"
    }
   ],
   "source": [
    "#Dataframe irrelevante\n",
    "irrelevantes = dados.loc[(dados['B1'])==0]\n",
    "irrelevantes.set_index('B1',inplace=True)\n",
    "irrelevantes.head()"
   ]
  },
  {
   "cell_type": "code",
   "execution_count": 27,
   "metadata": {},
   "outputs": [
    {
     "data": {
      "text/html": [
       "<div>\n",
       "<style scoped>\n",
       "    .dataframe tbody tr th:only-of-type {\n",
       "        vertical-align: middle;\n",
       "    }\n",
       "\n",
       "    .dataframe tbody tr th {\n",
       "        vertical-align: top;\n",
       "    }\n",
       "\n",
       "    .dataframe thead th {\n",
       "        text-align: right;\n",
       "    }\n",
       "</style>\n",
       "<table border=\"1\" class=\"dataframe\">\n",
       "  <thead>\n",
       "    <tr style=\"text-align: right;\">\n",
       "      <th></th>\n",
       "      <th>Tabela splitted</th>\n",
       "    </tr>\n",
       "  </thead>\n",
       "  <tbody>\n",
       "    <tr>\n",
       "      <th>0</th>\n",
       "      <td>[nos, ultimos, 1, 2, mesesibov, vs, cdi, cdi, ...</td>\n",
       "    </tr>\n",
       "    <tr>\n",
       "      <th>1</th>\n",
       "      <td>[apos, tombo, de, segunda, bolsa, tem, recuper...</td>\n",
       "    </tr>\n",
       "    <tr>\n",
       "      <th>2</th>\n",
       "      <td>[entenda, por, que, a, bolsa, de, valores, cai...</td>\n",
       "    </tr>\n",
       "    <tr>\n",
       "      <th>3</th>\n",
       "      <td>[bolsa, de, sao, paulo, suspende, negocios, tr...</td>\n",
       "    </tr>\n",
       "    <tr>\n",
       "      <th>4</th>\n",
       "      <td>[tereza, parou, a, aula, pra, falar, do, coron...</td>\n",
       "    </tr>\n",
       "  </tbody>\n",
       "</table>\n",
       "</div>"
      ],
      "text/plain": [
       "                                     Tabela splitted\n",
       "0  [nos, ultimos, 1, 2, mesesibov, vs, cdi, cdi, ...\n",
       "1  [apos, tombo, de, segunda, bolsa, tem, recuper...\n",
       "2  [entenda, por, que, a, bolsa, de, valores, cai...\n",
       "3  [bolsa, de, sao, paulo, suspende, negocios, tr...\n",
       "4  [tereza, parou, a, aula, pra, falar, do, coron..."
      ]
     },
     "execution_count": 27,
     "metadata": {},
     "output_type": "execute_result"
    }
   ],
   "source": [
    "#Split os tweets dos dataframes criados acima\n",
    "relevante_separado=separador(relevantes,titulo)\n",
    "irrelevante_separado=separador(irrelevantes,titulo)\n",
    "\n",
    "relevante_separado.head()"
   ]
  },
  {
   "cell_type": "code",
   "execution_count": 28,
   "metadata": {
    "scrolled": false
   },
   "outputs": [
    {
     "data": {
      "text/plain": [
       "bolsa    87\n",
       "de       81\n",
       "e        80\n",
       "a        79\n",
       "o        44\n",
       "Name: Tabela splitted, dtype: int64"
      ]
     },
     "execution_count": 28,
     "metadata": {},
     "output_type": "execute_result"
    }
   ],
   "source": [
    "#calculando quantas vezes cada palavra aparece nos tweets relevantes\n",
    "splited_relevante=tabela_palavras(relevante_separado)\n",
    "prob_relevante = splited_relevante.value_counts(True) \n",
    "num_palavras_relevante = splited_relevante.value_counts()\n",
    "num_palavras_relevante.head()"
   ]
  },
  {
   "cell_type": "code",
   "execution_count": 29,
   "metadata": {},
   "outputs": [
    {
     "data": {
      "text/plain": [
       "bolsa    111\n",
       "e         90\n",
       "de        82\n",
       "a         58\n",
       "que       51\n",
       "Name: Tabela splitted, dtype: int64"
      ]
     },
     "execution_count": 29,
     "metadata": {},
     "output_type": "execute_result"
    }
   ],
   "source": [
    "#calculando quantas vezes cada palavra aparece nos tweets irrelevantes\n",
    "splited_irrelevante=tabela_palavras(irrelevante_separado)\n",
    "prob_irrelevante = splited_irrelevante.value_counts(True) \n",
    "num_palavras_irrelevante = splited_irrelevante.value_counts()\n",
    "num_palavras_irrelevante.head()"
   ]
  },
  {
   "cell_type": "code",
   "execution_count": 30,
   "metadata": {},
   "outputs": [
    {
     "data": {
      "text/plain": [
       "0.037275064267352186"
      ]
     },
     "execution_count": 30,
     "metadata": {},
     "output_type": "execute_result"
    }
   ],
   "source": [
    "# probabilidade de ocorrencia da palavra bolsa dentro do database relevante\n",
    "prob_relevante['bolsa']"
   ]
  },
  {
   "cell_type": "code",
   "execution_count": 31,
   "metadata": {},
   "outputs": [],
   "source": [
    "#calculando a quantidade total de palavras temos em nosso database\n",
    "tamanho=[]\n",
    "novo_dados=dados_limpos.iloc[0:,0]\n",
    "for t in novo_dados:\n",
    "    for b in t:\n",
    "        tamanho.append(b)"
   ]
  },
  {
   "cell_type": "code",
   "execution_count": 32,
   "metadata": {},
   "outputs": [],
   "source": [
    "#criando novas colunas para o database final\n",
    "dados_limpos[\"Classificacao Manual\"] = pd.Series(dados[\"B1\"])\n",
    "dados_limpos[\"Classificacao_Naive\"] = pd.Series()\n",
    "dados_limpos[\"Resposta\"] = pd.Series()"
   ]
  },
  {
   "cell_type": "markdown",
   "metadata": {},
   "source": [
    "### Suavização de Laplace"
   ]
  },
  {
   "cell_type": "code",
   "execution_count": 33,
   "metadata": {},
   "outputs": [
    {
     "name": "stderr",
     "output_type": "stream",
     "text": [
      "C:\\Users\\Fernando\\Anaconda3\\lib\\site-packages\\ipykernel_launcher.py:47: SettingWithCopyWarning: \n",
      "A value is trying to be set on a copy of a slice from a DataFrame\n",
      "\n",
      "See the caveats in the documentation: http://pandas.pydata.org/pandas-docs/stable/indexing.html#indexing-view-versus-copy\n",
      "C:\\Users\\Fernando\\Anaconda3\\lib\\site-packages\\ipykernel_launcher.py:49: SettingWithCopyWarning: \n",
      "A value is trying to be set on a copy of a slice from a DataFrame\n",
      "\n",
      "See the caveats in the documentation: http://pandas.pydata.org/pandas-docs/stable/indexing.html#indexing-view-versus-copy\n",
      "C:\\Users\\Fernando\\Anaconda3\\lib\\site-packages\\ipykernel_launcher.py:39: SettingWithCopyWarning: \n",
      "A value is trying to be set on a copy of a slice from a DataFrame\n",
      "\n",
      "See the caveats in the documentation: http://pandas.pydata.org/pandas-docs/stable/indexing.html#indexing-view-versus-copy\n",
      "C:\\Users\\Fernando\\Anaconda3\\lib\\site-packages\\ipykernel_launcher.py:41: SettingWithCopyWarning: \n",
      "A value is trying to be set on a copy of a slice from a DataFrame\n",
      "\n",
      "See the caveats in the documentation: http://pandas.pydata.org/pandas-docs/stable/indexing.html#indexing-view-versus-copy\n",
      "C:\\Users\\Fernando\\Anaconda3\\lib\\site-packages\\ipykernel_launcher.py:43: SettingWithCopyWarning: \n",
      "A value is trying to be set on a copy of a slice from a DataFrame\n",
      "\n",
      "See the caveats in the documentation: http://pandas.pydata.org/pandas-docs/stable/indexing.html#indexing-view-versus-copy\n",
      "C:\\Users\\Fernando\\Anaconda3\\lib\\site-packages\\ipykernel_launcher.py:51: SettingWithCopyWarning: \n",
      "A value is trying to be set on a copy of a slice from a DataFrame\n",
      "\n",
      "See the caveats in the documentation: http://pandas.pydata.org/pandas-docs/stable/indexing.html#indexing-view-versus-copy\n"
     ]
    }
   ],
   "source": [
    "#criando um contador para percorrer o database linha por linha\n",
    "a=0\n",
    "#criando as variaveis que serão usadas na suavização de Laplace\n",
    "total=len(tamanho)\n",
    "total_relevantes=len(num_palavras_relevante)\n",
    "total_irrelevantes=len(num_palavras_irrelevante)\n",
    "len_01=len(num_palavras_relevante)\n",
    "len_00=len(num_palavras_irrelevante)\n",
    "\n",
    "#fazendo a suavização de Laplace\n",
    "for valor in dados_limpos[\"Tabela splitted\"]:\n",
    "    alpha = 1\n",
    "    prob01 = 1\n",
    "    prob00 = 1\n",
    "    for val in valor:\n",
    "        #caso a palavra não exista no nosso database, terá seu valor alterado, para uma melhor \n",
    "        #classificação do Naive Bayers\n",
    "        if val not in num_palavras_relevante or val not in num_palavras_irrelevante:\n",
    "            sec01 = alpha\n",
    "            sec00 = alpha\n",
    "        \n",
    "        else:\n",
    "            sec00=num_palavras_irrelevante[val] + alpha\n",
    "            sec01=num_palavras_relevante[val] + alpha\n",
    "            \n",
    "            \n",
    "        if val in num_palavras_relevante:\n",
    "            prob01 *= (num_palavras_relevante[val] + alpha) / (total_relevantes + total*alpha)\n",
    "        else: \n",
    "            prob01 *= sec01/(len(num_palavras_relevante)+total*alpha)\n",
    "        \n",
    "        if val in num_palavras_irrelevante:   \n",
    "            prob00 *= (num_palavras_irrelevante[val] + alpha) / (total_irrelevantes + total*alpha)\n",
    "        else:\n",
    "            prob00 *= sec00/(len(num_palavras_irrelevante)+total*alpha)\n",
    "       \n",
    "    if prob01>prob00:\n",
    "        prob_x = 1\n",
    "        dados_limpos[\"Classificacao_Naive\"][a] = prob_x\n",
    "        if dados_limpos[\"Classificacao Manual\"][a] == prob_x:\n",
    "            dados_limpos[\"Resposta\"][a] = \"Positivo Verdadeiro \"\n",
    "        elif dados_limpos[\"Classificacao Manual\"][a] != prob_x:\n",
    "            dados_limpos[\"Resposta\"][a] = \"Falso Positivo\"\n",
    "            \n",
    "    elif prob01<prob00:\n",
    "        prob_x = 0\n",
    "        dados_limpos[\"Classificacao_Naive\"][a] = prob_x\n",
    "        if dados_limpos[\"Classificacao Manual\"][a] == prob_x:\n",
    "            dados_limpos[\"Resposta\"][a] =\"Negativo Verdadeiro\"\n",
    "        elif dados_limpos[\"Classificacao Manual\"][a] != prob_x:\n",
    "            dados_limpos[\"Resposta\"][a] =\"Falso Negativo\"\n",
    "    a+=1\n",
    "resultado=dados_limpos"
   ]
  },
  {
   "cell_type": "markdown",
   "metadata": {},
   "source": [
    "___\n",
    "### Verificando a performance do Classificador\n",
    "\n",
    "Agora você deve testar o seu classificador com a base de Testes."
   ]
  },
  {
   "cell_type": "code",
   "execution_count": 34,
   "metadata": {},
   "outputs": [
    {
     "data": {
      "text/html": [
       "<div>\n",
       "<style scoped>\n",
       "    .dataframe tbody tr th:only-of-type {\n",
       "        vertical-align: middle;\n",
       "    }\n",
       "\n",
       "    .dataframe tbody tr th {\n",
       "        vertical-align: top;\n",
       "    }\n",
       "\n",
       "    .dataframe thead th {\n",
       "        text-align: right;\n",
       "    }\n",
       "</style>\n",
       "<table border=\"1\" class=\"dataframe\">\n",
       "  <thead>\n",
       "    <tr style=\"text-align: right;\">\n",
       "      <th></th>\n",
       "      <th>Tabela splitted</th>\n",
       "      <th>Classificacao Manual</th>\n",
       "      <th>Classificacao_Naive</th>\n",
       "      <th>Resposta</th>\n",
       "    </tr>\n",
       "  </thead>\n",
       "  <tbody>\n",
       "    <tr>\n",
       "      <th>0</th>\n",
       "      <td>[agora, sigo, sem, bolsa, nenhuma, pq, as, dua...</td>\n",
       "      <td>0</td>\n",
       "      <td>0.0</td>\n",
       "      <td>Negativo Verdadeiro</td>\n",
       "    </tr>\n",
       "    <tr>\n",
       "      <th>1</th>\n",
       "      <td>[entrei, na, mr, cat, hoje, pra, comprar, uma,...</td>\n",
       "      <td>0</td>\n",
       "      <td>0.0</td>\n",
       "      <td>Negativo Verdadeiro</td>\n",
       "    </tr>\n",
       "    <tr>\n",
       "      <th>2</th>\n",
       "      <td>[zedassilva, zedassilva, e, um, disparate, sem...</td>\n",
       "      <td>0</td>\n",
       "      <td>0.0</td>\n",
       "      <td>Negativo Verdadeiro</td>\n",
       "    </tr>\n",
       "    <tr>\n",
       "      <th>3</th>\n",
       "      <td>[nos, ultimos, 1, 2, mesesibov, vs, cdi, cdi, ...</td>\n",
       "      <td>1</td>\n",
       "      <td>1.0</td>\n",
       "      <td>Positivo Verdadeiro</td>\n",
       "    </tr>\n",
       "    <tr>\n",
       "      <th>4</th>\n",
       "      <td>[luizabatista, bolsa, de, agua, quente, ou, ba...</td>\n",
       "      <td>0</td>\n",
       "      <td>0.0</td>\n",
       "      <td>Negativo Verdadeiro</td>\n",
       "    </tr>\n",
       "  </tbody>\n",
       "</table>\n",
       "</div>"
      ],
      "text/plain": [
       "                                     Tabela splitted  Classificacao Manual  \\\n",
       "0  [agora, sigo, sem, bolsa, nenhuma, pq, as, dua...                     0   \n",
       "1  [entrei, na, mr, cat, hoje, pra, comprar, uma,...                     0   \n",
       "2  [zedassilva, zedassilva, e, um, disparate, sem...                     0   \n",
       "3  [nos, ultimos, 1, 2, mesesibov, vs, cdi, cdi, ...                     1   \n",
       "4  [luizabatista, bolsa, de, agua, quente, ou, ba...                     0   \n",
       "\n",
       "   Classificacao_Naive              Resposta  \n",
       "0                  0.0   Negativo Verdadeiro  \n",
       "1                  0.0   Negativo Verdadeiro  \n",
       "2                  0.0   Negativo Verdadeiro  \n",
       "3                  1.0  Positivo Verdadeiro   \n",
       "4                  0.0   Negativo Verdadeiro  "
      ]
     },
     "execution_count": 34,
     "metadata": {},
     "output_type": "execute_result"
    }
   ],
   "source": [
    "resultado.head()"
   ]
  },
  {
   "cell_type": "code",
   "execution_count": 35,
   "metadata": {},
   "outputs": [
    {
     "data": {
      "text/html": [
       "<div>\n",
       "<style scoped>\n",
       "    .dataframe tbody tr th:only-of-type {\n",
       "        vertical-align: middle;\n",
       "    }\n",
       "\n",
       "    .dataframe tbody tr th {\n",
       "        vertical-align: top;\n",
       "    }\n",
       "\n",
       "    .dataframe thead th {\n",
       "        text-align: right;\n",
       "    }\n",
       "</style>\n",
       "<table border=\"1\" class=\"dataframe\">\n",
       "  <thead>\n",
       "    <tr style=\"text-align: right;\">\n",
       "      <th>Classificacao_Naive</th>\n",
       "      <th>0.0</th>\n",
       "      <th>1.0</th>\n",
       "    </tr>\n",
       "    <tr>\n",
       "      <th>Classificacao Manual</th>\n",
       "      <th></th>\n",
       "      <th></th>\n",
       "    </tr>\n",
       "  </thead>\n",
       "  <tbody>\n",
       "    <tr>\n",
       "      <th>0</th>\n",
       "      <td>111</td>\n",
       "      <td>2</td>\n",
       "    </tr>\n",
       "    <tr>\n",
       "      <th>1</th>\n",
       "      <td>1</td>\n",
       "      <td>86</td>\n",
       "    </tr>\n",
       "  </tbody>\n",
       "</table>\n",
       "</div>"
      ],
      "text/plain": [
       "Classificacao_Naive   0.0  1.0\n",
       "Classificacao Manual          \n",
       "0                     111    2\n",
       "1                       1   86"
      ]
     },
     "execution_count": 35,
     "metadata": {},
     "output_type": "execute_result"
    }
   ],
   "source": [
    "#checando a diferença entre as classificações feitas à mão e as definidas pelo Naive Byers\n",
    "validador = pd.crosstab(resultado['Classificacao Manual'], resultado['Classificacao_Naive'])\n",
    "validador.head()"
   ]
  },
  {
   "cell_type": "code",
   "execution_count": 36,
   "metadata": {},
   "outputs": [
    {
     "data": {
      "text/plain": [
       "0    113\n",
       "1     87\n",
       "Name: B1, dtype: int64"
      ]
     },
     "execution_count": 36,
     "metadata": {},
     "output_type": "execute_result"
    }
   ],
   "source": [
    "#Classificação feita na mão\n",
    "dados.B1.value_counts()"
   ]
  },
  {
   "cell_type": "code",
   "execution_count": 37,
   "metadata": {},
   "outputs": [
    {
     "name": "stdout",
     "output_type": "stream",
     "text": [
      "Negativo Verdadeiro     55.5\n",
      "Positivo Verdadeiro     43.0\n",
      "Falso Positivo           1.0\n",
      "Falso Negativo           0.5\n",
      "Name: Resposta, dtype: float64\n"
     ]
    }
   ],
   "source": [
    "resposta = resultado[\"Resposta\"].value_counts(True)\n",
    "print(resposta*100)"
   ]
  },
  {
   "cell_type": "markdown",
   "metadata": {},
   "source": [
    "___\n",
    "### Concluindo"
   ]
  },
  {
   "cell_type": "code",
   "execution_count": null,
   "metadata": {},
   "outputs": [],
   "source": []
  },
  {
   "cell_type": "code",
   "execution_count": null,
   "metadata": {},
   "outputs": [],
   "source": []
  },
  {
   "cell_type": "markdown",
   "metadata": {},
   "source": [
    "___\n",
    "## Aperfeiçoamento:\n",
    "\n",
    "Os trabalhos vão evoluir em conceito dependendo da quantidade de itens avançados:\n",
    "\n",
    "* Limpar: \\n, :, \", ', (, ), etc SEM remover emojis\n",
    "* Corrigir separação de espaços entre palavras e emojis ou entre emojis e emojis\n",
    "* Propor outras limpezas e transformações que não afetem a qualidade da informação ou classificação\n",
    "* Criar categorias intermediárias de relevância baseadas na probabilidade: ex.: muito relevante, relevante, neutro, irrelevante, muito irrelevante (3 categorias: C, mais categorias conta para B)\n",
    "* Explicar por que não posso usar o próprio classificador para gerar mais amostras de treinamento\n",
    "* Propor diferentes cenários para Naïve Bayes fora do contexto do projeto\n",
    "* Sugerir e explicar melhorias reais com indicações concretas de como implementar (indicar como fazer e indicar material de pesquisa)\n",
    "* Montar um dashboard que periodicamente realiza análise de sentimento e visualiza estes dados"
   ]
  },
  {
   "cell_type": "markdown",
   "metadata": {},
   "source": [
    "___\n",
    "## Referências"
   ]
  },
  {
   "cell_type": "markdown",
   "metadata": {},
   "source": [
    "[Naive Bayes and Text Classification](https://arxiv.org/pdf/1410.5329.pdf)  **Mais completo**\n",
    "\n",
    "[A practical explanation of a Naive Bayes Classifier](https://monkeylearn.com/blog/practical-explanation-naive-bayes-classifier/) **Mais simples**"
   ]
  },
  {
   "cell_type": "code",
   "execution_count": null,
   "metadata": {},
   "outputs": [],
   "source": []
  },
  {
   "cell_type": "code",
   "execution_count": null,
   "metadata": {},
   "outputs": [],
   "source": []
  }
 ],
 "metadata": {
  "kernelspec": {
   "display_name": "Python 3",
   "language": "python",
   "name": "python3"
  },
  "language_info": {
   "codemirror_mode": {
    "name": "ipython",
    "version": 3
   },
   "file_extension": ".py",
   "mimetype": "text/x-python",
   "name": "python",
   "nbconvert_exporter": "python",
   "pygments_lexer": "ipython3",
   "version": "3.7.1"
  }
 },
 "nbformat": 4,
 "nbformat_minor": 4
}
